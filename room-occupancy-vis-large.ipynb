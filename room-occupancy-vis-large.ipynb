{
 "cells": [
  {
   "cell_type": "markdown",
   "id": "585202e034b268e",
   "metadata": {
    "collapsed": false
   },
   "source": [
    "# Visualizations large SOM - Room occupancy dataset\n",
    "\n",
    "In this notebook we prepare demonstrations of different PySomVis Visualisations.\n",
    "\n",
    "Dataset: Room Occupancy (see https://archive.ics.uci.edu/dataset/864/room+occupancy+estimation) including 16 sensory features and 10129 instances on which we train a 300x200 SOM with MiniSom. The instances also include day and time information which we also consider as normalized attributes. For performance reasons the SOM is trained outside of the notebook and the visualisations gathered from a running pysom instance (see occupancy_l_pysom.py).\n",
    "\n",
    "Github project: https://github.com/stephan-klein/PySOMVisJ5\n"
   ]
  },
  {
   "cell_type": "markdown",
   "id": "4b88a759c77a228c",
   "metadata": {
    "collapsed": false
   },
   "source": [
    "## Hit histogram\n",
    "The hit histogram visualizes the frequency with which neurons get hit during the training of a SOM.\n",
    "\n",
    "We identify 3 clusters: a small one at the top, a bigger, yet sparse one in the middle and a dense one at the bottom. The neurons most frequently hit belong to the bottom cluster.\n"
   ]
  },
  {
   "cell_type": "markdown",
   "id": "72ba3a64de5d613b",
   "metadata": {
    "collapsed": false
   },
   "source": [
    "![](img/occl_hithist.png)\n",
    "Hit histogram"
   ]
  },
  {
   "cell_type": "markdown",
   "id": "8c3c0b9850ac78e9",
   "metadata": {
    "collapsed": false
   },
   "source": [
    "## Smoothed data histogram\n",
    "\n",
    "The SDH is an extension of hit histograms that maps input vectors onto n-best matching units and achieves a smoothing effect.\n",
    "\n",
    "Compared to the visualization of the smaller SOM, the smoothing factor has less of a visible effect on this one. With the weighted SDH additional neurons become visible."
   ]
  },
  {
   "cell_type": "markdown",
   "id": "e19be78372361ed7",
   "metadata": {
    "collapsed": false
   },
   "source": [
    "![](img/occl_smhisto_sdh49.png)\n",
    "SDH with smoothing factor 50\n",
    "\n",
    "![](img/occl_smhisto_weightedsdh49.png)\n",
    "SDH with weighted smoothing factor 50"
   ]
  },
  {
   "cell_type": "markdown",
   "id": "7d9c608cf4675621",
   "metadata": {
    "collapsed": false
   },
   "source": [
    "## Neighbourhood graph\n",
    "\n",
    "Neighbourhood graphs visualize which areas of the SOM are in proximity based on the input space.\n",
    "\n",
    "Using the radius approach, we set the radius to a value of 2.0. Same as with the smaller SOM, the connections formed are different compared to the KNN approach. Most connections are displayed between the middle and the bottom clusters with the radius setting. With the KNN Connections are predominantly formed within a cluster and some topology violations are shown between middle and top clusters."
   ]
  },
  {
   "cell_type": "markdown",
   "id": "f4fa4b47f3c64279",
   "metadata": {
    "collapsed": false
   },
   "source": [
    "![](img/occl_neighbourhood_radius2.png)\n",
    "Neighborhood Connections Radius 2\n",
    "\n",
    "![](img/occl_neighbourhood_knn8.png)\n",
    "Neighborhood Connections KNN 8\n",
    "\n",
    "![](img/occl_neighbourhood_knn8_zoomcentercluster.png)\n",
    "Neighborhood Connections KNN 8 - Zoomed to middle cluster\n",
    "\n",
    "![](img/occl_neighbourhood_knn8_zoombottomcluster.png)\n",
    "Neighborhood Connections KNN 8 - Zoomed to bottom cluster\n"
   ]
  },
  {
   "cell_type": "markdown",
   "id": "974feaf320b122a7",
   "metadata": {
    "collapsed": false
   },
   "source": [
    "## Sky Metaphor\n",
    "\n",
    "Sky Metaphor is another density visualization, but maps data items on the exact position within a unit and therefore helps identify similarity between inputs within the same unit or across neighbouring units more accurately.\n",
    "\n",
    "\n",
    "We observe the sky metaphor has one of the worst runtime performance for a large som. We still were able to capture a plot which is shown below and are able to inspect exact fine-grained density structures within the clusters on zooming in\n"
   ]
  },
  {
   "cell_type": "markdown",
   "id": "795acde7344fd006",
   "metadata": {
    "collapsed": false
   },
   "source": [
    "![](img/occl_skymetaphor_sf2.png)\n",
    "Smoothing Factor 2 - Full SOM\n",
    "\n",
    "![](img/occl_skymetaphor_sf2_zoom.png)\n",
    "Smoothing Factor 2 - Zoomed in\n",
    "\n"
   ]
  },
  {
   "cell_type": "markdown",
   "id": "aa91a85d7a2325e6",
   "metadata": {
    "collapsed": false
   },
   "source": [
    "## Activity Histogram\n",
    "\n",
    "The Activity Histogram per data point visualizes the distance between input vector and all weight vectors.\n",
    "\n",
    "We chose two input vectors: 0 and 816. Sample 0 represents a sample with low sensor readings in the early mornings as opposed to sample 816 from 18:16 on the same day which has high sensor readings.\n",
    "Both samples show cluster homogeneity (gradients in distances clearly shown - instead of high and low values as close neighbours) with one exception - the bottom part of the middle cluster."
   ]
  },
  {
   "cell_type": "markdown",
   "id": "1eb9483a310cf6ee",
   "metadata": {
    "collapsed": false
   },
   "source": [
    "![](img/occl_act_0.png)\n",
    "Activity histogram - sample 0\n",
    "\n",
    "![](img/occl_act_816.png)\n",
    "Activity histogram - sample 816\n",
    "\n",
    " "
   ]
  },
  {
   "cell_type": "markdown",
   "id": "dd4fcd477fe3218c",
   "metadata": {
    "collapsed": false
   },
   "source": [
    "## Minimum spanning tree\n",
    "\n",
    "The Minimum Spanning Tree visualizes related nodes on the map by connecting similar nodes with each other.  The weights of the edges are computed by a distance metric between the vectors of the vertices and subsequently minimized.[0]\n",
    "\n",
    "Unfortunately for the large SOM PySOMVis was not able to produce the visualisation in a reasonable amount on time (On a High performance cloud server with 4 CPUs and 32GB RAM - directly run with python not via jupyter).\n",
    "\n",
    " [0]: https://www.ifs.tuwien.ac.at/~mayer/publications/pdf/may_icann10.pdf ,accessed 02.02.2024"
   ]
  },
  {
   "cell_type": "markdown",
   "id": "1dc0e31372bed27c",
   "metadata": {
    "collapsed": false
   },
   "source": [
    "##  Cluster Connections\n",
    "\n",
    "In this visualization technique, connecting lines are drawn between units based on threshold values. The intensity of the connections between nodes indicates the similarity of underlying data points.\n",
    "\n",
    "We observe some issues with this visualisation on the large SOM. The connections are not rendered in the same way for the small SOM and we can produce some artifacts which only show on zooming or panning."
   ]
  },
  {
   "cell_type": "markdown",
   "id": "fbbbeaf608751c57",
   "metadata": {
    "collapsed": false
   },
   "source": [
    "![](img/occl_clustercon_0.18.png)\n",
    "(Potentially Faulty) Cluster Connection Visualization\n",
    "\n",
    "![](img/occl_clustercon_0.18_onzoom.png)\n",
    "Artifacts on scrolling\n"
   ]
  },
  {
   "cell_type": "markdown",
   "id": "2bff1d462d4afcec",
   "metadata": {
    "collapsed": false
   },
   "source": [
    "## U-Matrix\n",
    "The U-Matrix visualization displays the distances between neurons on the SOM grid. Low values correspond to small distances between neighbouring neurons, whereas high values indicate large distances and can be used to identify cluster boundaries. \n",
    "\n",
    "The visualization helps to discern individual cluster structures that appeared unclear in earlier visualizations.\n",
    " Especially the top (-0.15, -0.45) and bottom clusters (0.2, -0.3) with low sensor reading values form coherent regions(valleys) with visible cluster boundaries in the U-matrix. The middle cluster (0.15, -0.1) with high sensor readings does not form coherent, but noisy regions and unclear boundaries."
   ]
  },
  {
   "cell_type": "markdown",
   "id": "bc2235a879da65b5",
   "metadata": {
    "collapsed": false
   },
   "source": [
    "![](img/occl_umatrix.png)\n",
    "U-Matrix"
   ]
  },
  {
   "cell_type": "markdown",
   "id": "ec4f6fa8d6a3e929",
   "metadata": {
    "collapsed": false
   },
   "source": [
    "## D-Matrix\n",
    "The D-Matrix is similar to the U-Matrix, but averages the distance instead of using interpolation.\n",
    "\n",
    "This results in a similar visualisation, but with smoother transitions between \"mountains\" and \"valleys\". The boundaries are therefore not as clearly visible\n"
   ]
  },
  {
   "cell_type": "markdown",
   "id": "1c946dc5",
   "metadata": {},
   "source": [
    "![](img/occl_dmatrix.png)\n",
    "D-Matrix"
   ]
  },
  {
   "cell_type": "markdown",
   "id": "6c5dcb81d94a5fdc",
   "metadata": {
    "collapsed": false
   },
   "source": [
    "## P-Matrix & U*-Matrix\n",
    "\n",
    "Unlike the U-Matrix, P-Matrix is a density and not a distance based metric. It involves estimating the empirical density at each neuron's weight vector in the feature space.\n",
    "\n",
    "The U*-Matrix combines both distance and density information, enhancing cluster visualization by adjusting the U-Matrix with density-derived scale factors.\n",
    "  \n",
    "For the P-Matrix we calculate the optimal Percentile and Radius which results in a percentile of 43 and radius of 3.6. On increasing the percentile (and thus the radius) to 60 we can reduce the noise of the low density regions. In the P-Matrices we observe that the supposedly 'empty' regions of the SOM (we see them empty in hit histogram) are shown in bright red indicating a high density region, this is something we cannot observe on the smaller SOM and have no explanation apart from a fault in the implementation on a large SOM.\n",
    "\n",
    "In the U*-Matrix this behaviour vanishes, and we observe no large structural differences compared to the U-Matrix, indicating that density information does not fundamentally contradict the distance based Metrics of the U-Matrix\n"
   ]
  },
  {
   "cell_type": "markdown",
   "id": "ad429aabdebca70e",
   "metadata": {
    "collapsed": false
   },
   "source": [
    "![](img/occl_pmatrix_optimal_43_3.6.png)\n",
    "P-Matrix with optimal values\n",
    "\n",
    "![](img/occl_ustarmatrix_optimal_43_3.6.png)\n",
    "U*-Matrix (=P-Matrix + U-Matrix) with optimal values\n",
    "\n",
    "![](img/occl_pmatrix_higher_60_4.9.png)\n",
    "P-Matrix with higher percentile and radius\n",
    "\n",
    "![](img/occl_ustarmatrix_higher_60_4.9.png)\n",
    "U*-Matrix (=P-Matrix + U-Matrix) higher percentile and radius\n"
   ]
  },
  {
   "cell_type": "markdown",
   "id": "73f607caff3cc326",
   "metadata": {
    "collapsed": false
   },
   "source": [
    "## Pie chart\n",
    "\n",
    "This visualization is for classification type datasets. The room occupancy provides the occupancy count as an integer type target, which is not suitable for this classification visualization.\n"
   ]
  },
  {
   "cell_type": "markdown",
   "id": "5de76663d4fc5ee5",
   "metadata": {
    "collapsed": false
   },
   "source": [
    "## Chessboard\n",
    "\n",
    "Chessboard visualization is a type of class coloring visualization, combining Voronoi Tesselation and chessboard style pixel coloring according to dominant classes.\n",
    "\n",
    "Since the dataset is not suitable for classification type visualizations, we didn't use this visualization on the room occupancy data."
   ]
  },
  {
   "cell_type": "markdown",
   "id": "8b49ba1073fdc9c3",
   "metadata": {
    "collapsed": false
   },
   "source": [
    "## Component planes\n",
    "The component planes visualization shows the distribution of the weights for the selected attributes (=components) across the SOM units. \n",
    "\n",
    "We observe that the middle cluster (0.15, -0.1) represents the instances with high sensory readings for temperature, light, sound, CO2 and motion - consistently throughout those components. We can also identify, that the middle cluster has a smaller cluster with opposing readings (valleys) attached on its bottom side, indicating low values for light, sound, CO2 and motion.\n",
    "\n",
    "The bottom cluster (0.2, -0.3) represents instances with low sensory readings, with consistency across the components (just a small violation within this cluster for the light component).\n",
    "\n",
    "The last visualization shows the time of day component. It reveals the high sensory readings occur in afternoon and evening time (middle cluster) and the low sensory readings on nights and mornings (bottom cluster)"
   ]
  },
  {
   "cell_type": "markdown",
   "id": "37c382a0dd0a2bf0",
   "metadata": {
    "collapsed": false
   },
   "source": [
    "![](img/occl_component0_temp.png)\n",
    "Component 0 - Temperature\n",
    "\n",
    "![](img/occl_component4_light.png)\n",
    "Component 4 - Light\n",
    "\n",
    "![](img/occl_component8_sound.png)\n",
    "Component 8 - Sound\n",
    "\n",
    "![](img/occl_component12_co2.png)\n",
    "Component 12 - Co2\n",
    "\n",
    "![](img/occl_component14_PIR.png)\n",
    "Component 14 - PIR\n",
    "\n",
    "![](img/occl_component17_timeofday.png)\n",
    "Component 17 - Time of day\n"
   ]
  },
  {
   "cell_type": "markdown",
   "id": "63e4307462aefd4",
   "metadata": {
    "collapsed": false
   },
   "source": [
    "## Metro Map\n",
    "\n",
    "MetroMap is similar to component planes, but groups weights of the selected attribute into bins.\n",
    "Component lines connect the centers of gravity of each bin.\n",
    "\n",
    "When one attribute is selected with the option of 5 bins, we see how the temperature readings from the one sensor are distributed into the bins, and the component lines indicating the gradients between centers of gravity. We see the lines for the lower bins not forming a clear direction, this makes sense as the low temperature clusters are spread throughout top and bottom of the SOM.\n",
    "\n",
    "If multiple attributes are selected, only one bin is visualized. The centers of gravity for two temperature readings S3 and S4, and time of day lie in the bottom cluster, so we observe a clear direction for the metro lines towards this cluster. For all other attributes this is not the case, as all centers of gravity, and thus the metro lines, are located in proximity of the central cluster."
   ]
  },
  {
   "cell_type": "markdown",
   "id": "d73037ab14ec676a",
   "metadata": {
    "collapsed": false
   },
   "source": [
    "![](img/occl_metro_1comp.png)\n",
    "Metro Map - Attribute 0\n",
    "\n",
    "![](img/occl_metro_c-2-3-17.png)\n",
    "Metro Map - Attributes: 2 (Temp S3), 3 (Temp S4), 17 (Time of Day)\n",
    "\n",
    "![](img/occl_metro_allexcept-2-3-17.png)\n",
    "Metro Map - All attributes except 2,3\n"
   ]
  },
  {
   "cell_type": "markdown",
   "id": "6a6c90fe1a2614cd",
   "metadata": {
    "collapsed": false
   },
   "source": [
    "## Clustering\n",
    "\n",
    "Clustering is a non-deterministic division of the map into regions based on the weights.\n",
    "There are two approaches: k-means and agglomerative clustering.\n",
    "\n",
    "With the Kmeans Approach we receive a noisy result. This stands in contrast to the smaller som, where we do not receive such noise. The noise can be explained by neurons which are seldomly chosen as BMU (they will stay with randomly initialized weights). The noise increased with the cluster size.\n",
    "\n",
    "We can remove the noise in agglomerative clustering, and can observe the inner structure of the middle (high sensor data) cluster. The bottom cluster (low sensor data) only emerges on increasing the cluster size. This indicates lower distances to the background data of the som in this cluster."
   ]
  },
  {
   "cell_type": "markdown",
   "id": "5b5e4758aee8df6d",
   "metadata": {
    "collapsed": false
   },
   "source": [
    "\n",
    "![](img/occl_clustering_kmeans4.png)\n",
    "KMeans Clustering with 4 clusters\n",
    "\n",
    "![](img/occl_clustering_kmeans8.png)\n",
    "KMeans Clustering with 8 clusters\n",
    "\n",
    "![](img/occl_clustering_agglo.png)\n",
    "Agglomerative Clustering with 20 clusters\n",
    "\n",
    "![](img/occl_clustering_agglo_50.png)\n",
    "Agglomerative Clustering with 50 clusters\n",
    "\n"
   ]
  },
  {
   "cell_type": "markdown",
   "id": "8b19826f50c22a0d",
   "metadata": {
    "collapsed": false
   },
   "source": [
    "## Quantization error\n",
    "\n",
    "The visualization shows the average distance between the input vector, and it's best matching unit and serves as an indication of how well the map is trained.\n",
    "\n",
    "We observe a couple of single neurons with a high quantization error in the top and bottom cluster, so we conclude that our map is trained fairly well"
   ]
  },
  {
   "cell_type": "markdown",
   "id": "cc932368c50e3bff",
   "metadata": {
    "collapsed": false
   },
   "source": [
    "![](img/occl_quanterror.png)\n",
    "Quantization error\n"
   ]
  },
  {
   "cell_type": "markdown",
   "id": "f4d8aec32c449a45",
   "metadata": {
    "collapsed": false
   },
   "source": [
    "## Topographic Error\n",
    "\n",
    "The topographic error visualizes how well the SOM preserves the topography of the input\n",
    "space by calculating the percentage of data samples for which the first and second BMU are not placed in adjacent units in the SOM.\n",
    "\n",
    "Consistent to the small SOM visualisation of topographic error, we notice that the cluster with low sensor readings has a high amount of topographic errors, but the cluster is dense and according to the lecture this might be misleading. "
   ]
  },
  {
   "cell_type": "markdown",
   "id": "93f071d043c6f074",
   "metadata": {
    "collapsed": false
   },
   "source": [
    "![](img/occl_topoerror.png)\n",
    "Topographic error"
   ]
  },
  {
   "cell_type": "markdown",
   "id": "bc7307d684c1f8ff",
   "metadata": {
    "collapsed": false
   },
   "source": [
    "## SOMStreamVis\n",
    "\n",
    "The SOMStreamVis plots best matching BMU indexes over time (natural order of samples) and can provide additional information to a SOM visualization.\n",
    "\n",
    "We used the SOMStreamVis together with the Agglomerative Clustering visualization. Colors are therefore matched between cluster and the matching BMUs over time.\n",
    "The dataset contains information from the 22.12. starting at 11 am until the 26.12. at 9 am, followed by a gap until the 10.01. 15:30 (at sample number 8086) and ending on the 11.01. at 9am.\n",
    "SOMStreamVis reflects patterns in the readings, data that belongs to the cluster with low sensor readings match samples from the nights and the high sensor readings are found in samples from afternoons and evenings. The 25.12. is an outlier in the sense that there is no match with the high sensor reading cluster in the afternoon/evening, indicating low or now occupancy at this day."
   ]
  },
  {
   "cell_type": "markdown",
   "id": "ab64af0c17b67a98",
   "metadata": {
    "collapsed": false
   },
   "source": [
    "![](img/occl_somstreamviz_cluster.png)\n",
    "Agglomerative clusters\n",
    "\n",
    "![](img/occl_somstreamviz_time.png)\n",
    "Timeseries visualization"
   ]
  },
  {
   "cell_type": "markdown",
   "id": "12bb4b92285466e7",
   "metadata": {
    "collapsed": false
   },
   "source": [
    "## Intrinsic distance\n",
    "\n",
    "Intrinsic distance visualization combines topographic and quantization error visualizations.\n",
    "\n",
    "Due to performance issues or a bug, we weren't able to display the visualization. According to the logging we have built into it, the calculate function never terminated."
   ]
  },
  {
   "cell_type": "markdown",
   "id": "757d7fae33a7a7d2",
   "metadata": {
    "collapsed": false
   },
   "source": [
    "## Mnemonic SOM\n",
    "\n",
    "Due to performance issues on this dataset, we were unable to render this visualization. The logging we additionally implemented indicated that the calculate function never terminated."
   ]
  }
 ],
 "metadata": {
  "kernelspec": {
   "display_name": "Python 3",
   "language": "python",
   "name": "python3"
  },
  "language_info": {
   "codemirror_mode": {
    "name": "ipython",
    "version": 3
   },
   "file_extension": ".py",
   "mimetype": "text/x-python",
   "name": "python",
   "nbconvert_exporter": "python",
   "pygments_lexer": "ipython3",
   "version": "3.9.18"
  }
 },
 "nbformat": 4,
 "nbformat_minor": 5
}
