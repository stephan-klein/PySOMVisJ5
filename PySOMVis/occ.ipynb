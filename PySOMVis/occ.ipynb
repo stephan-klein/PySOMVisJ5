{
 "cells": [
  {
   "cell_type": "markdown",
   "id": "7f21332e-4d32-45bd-b84c-873538c3247a",
   "metadata": {},
   "source": [
    "### Load Weights from Trained SOM"
   ]
  },
  {
   "cell_type": "code",
   "execution_count": null,
   "id": "a34531e6-e1df-4d51-bfd0-dd3e2ce76c81",
   "metadata": {},
   "outputs": [],
   "source": [
    "loaded_weights = np.loadtxt(file_path, delimiter=',')\n",
    "\n",
    "# Reshape the array to its original dimensions (60, 40, 18)\n",
    "loaded_weights_reshaped = loaded_weights.reshape((200, 150, 12))\n",
    "\n",
    "are_identical = np.array_equal(weights, loaded_weights_reshaped)"
   ]
  }
 ],
 "metadata": {
  "kernelspec": {
   "display_name": "Python 3 (ipykernel)",
   "language": "python",
   "name": "python3"
  },
  "language_info": {
   "codemirror_mode": {
    "name": "ipython",
    "version": 3
   },
   "file_extension": ".py",
   "mimetype": "text/x-python",
   "name": "python",
   "nbconvert_exporter": "python",
   "pygments_lexer": "ipython3",
   "version": "3.9.18"
  }
 },
 "nbformat": 4,
 "nbformat_minor": 5
}
