{
 "cells": [
  {
   "cell_type": "markdown",
   "id": "585202e034b268e",
   "metadata": {
    "collapsed": false
   },
   "source": [
    "# Visualizations large SOM - Room occupancy dataset"
   ]
  },
  {
   "cell_type": "markdown",
   "id": "4b88a759c77a228c",
   "metadata": {
    "collapsed": false
   },
   "source": [
    "## 1. Hit histogram\n",
    "The hit histogram visualizes the frequency with which neurons get hit during the training of a SOM.\n",
    "\n",
    "We identify 3 clusters: a small one at the top, a bigger, yet sparse one in the middle and a dense one at the bottom. The neurons most frequently hit belong to the bottom cluster.\n"
   ]
  },
  {
   "cell_type": "markdown",
   "id": "72ba3a64de5d613b",
   "metadata": {
    "collapsed": false
   },
   "source": [
    "![](img/occl_hithist.png)"
   ]
  },
  {
   "cell_type": "markdown",
   "id": "8c3c0b9850ac78e9",
   "metadata": {
    "collapsed": false
   },
   "source": [
    "## 2. Smoothed data histogram\n",
    "\n",
    "The SDH is an extension of hit histograms that maps input vectors onto n-best matching units and achieves a smoothing effect.\n",
    "\n",
    "Compared to the visualization of the smaller dataset, the smoothing factor has less of a visible effect on this dataset. With the weighted SDH additional neurons become visible."
   ]
  },
  {
   "cell_type": "markdown",
   "id": "e19be78372361ed7",
   "metadata": {
    "collapsed": false
   },
   "source": [
    "%TODO add pictures"
   ]
  },
  {
   "cell_type": "markdown",
   "id": "7d9c608cf4675621",
   "metadata": {
    "collapsed": false
   },
   "source": [
    "## 3. Neighbourhood graph\n",
    "\n",
    "Neighbourhood graphs visualize which areas of the SOM are in proximity based on the input space.\n",
    "\n",
    "We plotted the neighbourhood graph for 8 nearest neighbours over a U-Matrix. We observe more long lines between the center cluster and other smaller clusters, but not to the top cluster.\n",
    "\n",
    "Using the radius approach, we set the radius to a value of 2.0. Same as with the smaller dataset, the connections formed are different compared to the KNN approach. Most connections are displayed between the middle and the bottom clusters. Similar to the KNN approach, there are no connections to the top cluster unless we set the radius to a very high value."
   ]
  },
  {
   "cell_type": "markdown",
   "id": "f4fa4b47f3c64279",
   "metadata": {
    "collapsed": false
   },
   "source": [
    "%TODO add pictures"
   ]
  },
  {
   "cell_type": "markdown",
   "id": "974feaf320b122a7",
   "metadata": {
    "collapsed": false
   },
   "source": [
    "## 4. Sky Metaphor\n",
    "\n",
    "Sky Metaphor is another density visualization, but maps data items on the exact position within a unit and therefore helps identify similarity between inputs within the same unit or across neighbouring units more accurately.\n",
    "\n",
    "\n",
    "TODO add text?\n"
   ]
  },
  {
   "cell_type": "markdown",
   "id": "795acde7344fd006",
   "metadata": {
    "collapsed": false
   },
   "source": [
    "%TODO add pictures"
   ]
  },
  {
   "cell_type": "markdown",
   "id": "aa91a85d7a2325e6",
   "metadata": {
    "collapsed": false
   },
   "source": [
    "## 5. Activity Histogram\n",
    "\n",
    "The Activity Histogram per data point visualizes the distance between input vector and all weight vectors.\n",
    "\n",
    "TODO add text"
   ]
  },
  {
   "cell_type": "markdown",
   "id": "1eb9483a310cf6ee",
   "metadata": {
    "collapsed": false
   },
   "source": [
    "%TODO"
   ]
  },
  {
   "cell_type": "markdown",
   "id": "dd4fcd477fe3218c",
   "metadata": {
    "collapsed": false
   },
   "source": [
    "## 6. Minimum spanning tree\n",
    "\n",
    "The Minimum Spanning Tree visualizes related nodes on the map by connecting similar nodes with each other.  The weights of the edges are computed by a distance metric between the vectors of the vertices and subsequently minimized.\n",
    "ADD CITATION https://www.ifs.tuwien.ac.at/~mayer/publications/pdf/may_icann10.pdf\n",
    "\n",
    "Unfortunately for the large dataset Pysomvis was not able to produce the visualisation in a reasonable amount on time (On a High performance cloud server with 4 CPUs and 32GB RAM - directly run with python not via jupyter)"
   ]
  },
  {
   "cell_type": "markdown",
   "id": "1dc0e31372bed27c",
   "metadata": {
    "collapsed": false
   },
   "source": [
    "## 7. Cluster Connections\n",
    "\n",
    "In this visualization technique, connecting lines are drawn between units based on threshold values.\n",
    "\n",
    "We observe some issues with this visualisation on the large SOM. The connections are not rendered in the same way for the small SOM and we can produce some artifacts which only show on zooming or panning."
   ]
  },
  {
   "cell_type": "markdown",
   "id": "fbbbeaf608751c57",
   "metadata": {
    "collapsed": false
   },
   "source": [
    "<div style=\"display: flex; justify-content: space-around; align-items: flex-start;\">\n",
    "  <figure style=\"width: 50%; text-align: center;\">\n",
    "    <img src=\"img/occl_clustercon_0.18.png\" alt=\"Cluster Connection\" style=\"max-width: 100%; height: auto;\">\n",
    "    <figcaption>(Potentially Faulty) Cluster Connection Visualization</figcaption>\n",
    "  </figure>\n",
    "  \n",
    "  <figure style=\"width: 50%; text-align: center;\">\n",
    "    <img src=\"img/occl_clustercon_0.18_onzoom.png\" alt=\"Cluster Connection on Zoom\" style=\"max-width: 100%; height: auto;\">\n",
    "    <figcaption>Artifacts on scrolling</figcaption>\n",
    "  </figure>\n",
    "</div>"
   ]
  },
  {
   "cell_type": "markdown",
   "id": "2bff1d462d4afcec",
   "metadata": {
    "collapsed": false
   },
   "source": [
    "## 8.U-Matrix\n",
    "The U-Matrix visualization displays the distances between neurons on the SOM grid. Low values correspond to small distances between neighbouring neurons, whereas high values indicate large distances and can be used to identify cluster boundaries. \n",
    "\n",
    "The visualization helps to discern individual cluster structures that appeared unclear in earlier visualizations.\n",
    " Especially the top (-0.15, -0.45) and bottom clusters (0.2, -0.3) with low sensor reading values form coherent regions(valleys) with visible cluster boundaries in the U-matrix. The middle cluster (0.15, -0.1) with high sensor readings do not form coherent, but noisy regions and unclear boundraries."
   ]
  },
  {
   "cell_type": "markdown",
   "id": "bc2235a879da65b5",
   "metadata": {
    "collapsed": false
   },
   "source": [
    "![](img/occl_umatrix.png)"
   ]
  },
  {
   "cell_type": "markdown",
   "id": "ec4f6fa8d6a3e929",
   "metadata": {
    "collapsed": false
   },
   "source": [
    "## 9.D-Matrix\n",
    "The D-Matrix is similar to the U-Matrix, but averages the distance instead of using interpolation.\n",
    "\n",
    "This results in a similar visualisation, but with smoother transitions between \"mountains\" and \"valleys\". The boundaries are therefore not as clearly visible\n"
   ]
  },
  {
   "cell_type": "markdown",
   "id": "1c946dc5",
   "metadata": {},
   "source": [
    "![](img/occl_dmatrix.png)"
   ]
  },
  {
   "cell_type": "markdown",
   "id": "6c5dcb81d94a5fdc",
   "metadata": {
    "collapsed": false
   },
   "source": [
    "## 10.P-Matrix & U*-Matrix\n",
    "\n",
    "Unlike the U-Matrix, P-Matrix is a density and not a distance based metric. It involves estimating the empirical density at each neuron's weight vector in the feature space.\n",
    "\n",
    "The U*-Matrix combines both distance and density information, enhancing cluster visualization by adjusting the U-Matrix with density-derived scale factors.\n",
    "  \n",
    "For the P-Matrix we calculate the optimal Percentile and Radius which results in a percentile of 43 and radius of 3.6. On increasing the percentile (and thus the radius) to 60 we can reduce the noise of the low density regions. In the P-Matrixes we observe that the supposedly 'empty' regions of the som (we see them empty in hit histogram) are shown in bright red indicating a high density region, this is something we cannot observe on the smaller SOM and have no explaination apart from an fault in the implementation on a large dataset.\n",
    "\n",
    "In the U*-Matrix this behaviour vanishes and we observe no large structural differences to the U-Matrix indicating that Denisity information does not fundamentaly contradict the distance based Metrics of the U-Matrix\n"
   ]
  },
  {
   "cell_type": "markdown",
   "id": "ad429aabdebca70e",
   "metadata": {
    "collapsed": false
   },
   "source": [
    "<div style=\"display: flex; justify-content: space-around; align-items: flex-start;\">\n",
    "  <figure style=\"width: 40%; text-align: center;\">\n",
    "    <img src=\"img/occl_pmatrix_optimal_43_3.6.png\" style=\"max-width: 100%; height: auto;\">\n",
    "    <figcaption>P-Matrix with optimal values</figcaption>\n",
    "  </figure>\n",
    "  \n",
    "  <figure style=\"width: 40%; text-align: center;\">\n",
    "    <img src=\"img/occl_ustarmatrix_optimal_43_3.6.png\" style=\"max-width: 100%; height: auto;\">\n",
    "    <figcaption>U*-Matrix (=P-Matrix + U-Matrix) with optimal values</figcaption>\n",
    "  </figure>\n",
    "</div>\n",
    "\n",
    "<div style=\"display: flex; justify-content: space-around; align-items: flex-start;\">\n",
    "  <figure style=\"width: 40%; text-align: center;\">\n",
    "    <img src=\"img/occl_pmatrix_higher_60_4.9.png\" style=\"max-width: 100%; height: auto;\">\n",
    "    <figcaption>P-Matrix with higher percentile and radius</figcaption>\n",
    "  </figure>\n",
    "  \n",
    "  <figure style=\"width: 40%; text-align: center;\">\n",
    "    <img src=\"img/occl_ustarmatrix_higher_60_4.9.png\" style=\"max-width: 100%; height: auto;\">\n",
    "    <figcaption>U*-Matrix (=P-Matrix + U-Matrix) higher percentile and radius</figcaption>\n",
    "  </figure>\n",
    "</div>"
   ]
  },
  {
   "cell_type": "markdown",
   "id": "73f607caff3cc326",
   "metadata": {
    "collapsed": false
   },
   "source": [
    "## 11. Pie chart\n",
    "\n",
    "This visualization is for classification type datasets. The room occupancy provides the occupancy count as an integer type target, which is not suitable for this classification type\n",
    " visualization.\n"
   ]
  },
  {
   "cell_type": "markdown",
   "id": "5de76663d4fc5ee5",
   "metadata": {
    "collapsed": false
   },
   "source": [
    "## 12. Chessboard\n",
    "\n",
    "Chessboard visualization is a type of class coloring visualization, combining Voronoi Tesselation and chessboard style pixel coloring according to dominant classes.\n",
    "\n",
    "Since the dataset is not suitable for classification type visualizations, we didn't use this visualization on the room occupancy data."
   ]
  },
  {
   "cell_type": "markdown",
   "id": "8b49ba1073fdc9c3",
   "metadata": {
    "collapsed": false
   },
   "source": [
    "## 13. Component planes\n",
    "The component planes visualization shows the distribution of the weights for the selected attributes (=components) across the SOM units. \n",
    "\n",
    "We observe that the middle cluster (0.15, -0.1) represents the instances with high sensory readings for Temperature, Light, Sound, CO2 and Motion - consistently throughout those components. We can also identify the middle cluster has a smaller cluster with opposing readings (valleys) attached on its bottom side, indicating low values for Light, Sound, CO2 and Motion.\n",
    "\n",
    "The bottom cluster (0.2, -0.3) represents instances with low sensory readings, with consistency across the components. (just a small violation within this cluster for the light component)\n",
    "\n",
    "The last visualisation shows the time of day component. It reveals the high sensory readings occur in afternoon and evening time (middle cluster) and the low sensory readings on nights mornings (bottom cluster)"
   ]
  },
  {
   "cell_type": "markdown",
   "id": "37c382a0dd0a2bf0",
   "metadata": {
    "collapsed": false
   },
   "source": [
    "<div style=\"display: flex; justify-content: space-around; align-items: flex-start;\">\n",
    "  <figure style=\"width: 33%; text-align: center;\">\n",
    "    <img src=\"img/occl_component0_temp.png\" style=\"max-width: 100%; height: auto;\">\n",
    "    <figcaption>Component 0 - Temperature</figcaption>\n",
    "  </figure>\n",
    "  \n",
    "  <figure style=\"width: 33%; text-align: center;\">\n",
    "    <img src=\"img/occl_component4_light.png\" style=\"max-width: 100%; height: auto;\">\n",
    "    <figcaption>Component 4 - Light</figcaption>\n",
    "  </figure>\n",
    "\n",
    "  <figure style=\"width: 33%; text-align: center;\">\n",
    "    <img src=\"img/occl_component8_sound.png\" style=\"max-width: 100%; height: auto;\">\n",
    "    <figcaption>Component 8 - Sound</figcaption>\n",
    "  </figure>\n",
    "</div>\n",
    "\n",
    "<div style=\"display: flex; justify-content: space-around; align-items: flex-start;\">\n",
    "  <figure style=\"width: 33%; text-align: center;\">\n",
    "    <img src=\"img/occl_component12_co2.png\" style=\"max-width: 100%; height: auto;\">\n",
    "    <figcaption>Component 12 - CO2</figcaption>\n",
    "  </figure>\n",
    "  \n",
    "  <figure style=\"width: 33%; text-align: center;\">\n",
    "    <img src=\"img/occl_component14_PIR.png\" style=\"max-width: 100%; height: auto;\">\n",
    "    <figcaption>Component 14 - PIR (Motion Detection)</figcaption>\n",
    "  </figure>\n",
    "\n",
    "  <figure style=\"width: 33%; text-align: center;\">\n",
    "    <img src=\"img/occl_component17_timeofday.png\" style=\"max-width: 100%; height: auto;\">\n",
    "    <figcaption>Component 17 - Time Of Day</figcaption>\n",
    "  </figure>\n",
    "</div>"
   ]
  },
  {
   "cell_type": "markdown",
   "id": "63e4307462aefd4",
   "metadata": {
    "collapsed": false
   },
   "source": [
    "## 14. Metro Map\n",
    "\n",
    "MetroMap is similar to component planes, but groups weights of the selected attribute into bins.\n",
    "Component lines connect the centers of gravity of each bin.\n",
    "\n",
    "When one attribute is selected with the option of 5 bins, we see how the temperature readings from the one sensor are distributed into the bins, and the component lines indicating the gradients between centers of gravity. We see the lines for the lower bins not forming a clear direction, this makes sense as the low temperature clusters are spread throughout top and bottom of the som.\n",
    "\n",
    "If multiple attributes are selected, only one bin is visualized and. The centers of gravity for two temperature readings S3 and S4 and time of day lies in the bottom cluster so we se a clear direction/angles for the metro lines towards this cluster. For all other attributes this is not the case ad all centers of gravity, thus the metro lines are located in proximity of the central cluster."
   ]
  },
  {
   "cell_type": "markdown",
   "id": "d73037ab14ec676a",
   "metadata": {
    "collapsed": false
   },
   "source": [
    "<div style=\"display: flex; justify-content: space-around; align-items: flex-start;\">\n",
    "  <figure style=\"width: 33%; text-align: center;\">\n",
    "    <img src=\"img/occl_metro_1comp.png\" style=\"max-width: 100%; height: auto;\">\n",
    "    <figcaption>Component 0</figcaption>\n",
    "  </figure>\n",
    "  \n",
    "  <figure style=\"width: 33%; text-align: center;\">\n",
    "    <img src=\"img/occl_metro_c-2-3-17.png\" style=\"max-width: 100%; height: auto;\">\n",
    "    <figcaption>Component 2 (Temp S3), 3 (Temp S4), 17 (Time of Day)</figcaption>\n",
    "  </figure>\n",
    "  \n",
    "  <figure style=\"width: 33%; text-align: center;\">\n",
    "    <img src=\"img/occl_metro_allexcept-2-3-17.png\" style=\"max-width: 100%; height: auto;\">\n",
    "    <figcaption>All components except 2, 3, 17</figcaption>\n",
    "  </figure>\n",
    "</div>"
   ]
  },
  {
   "cell_type": "markdown",
   "id": "6a6c90fe1a2614cd",
   "metadata": {
    "collapsed": false
   },
   "source": [
    "## 15. Clustering\n",
    "\n",
    "Clustering is a non-deterministic division of the map into regions based on the weights.\n",
    "There are two approaches: k-means and agglomerative clustering.\n",
    "\n",
    "With a number of 4 clusters we observe that neurons belonging to the same cluster are in relative proximity, with only a couple of outliers. Our main cluster with low sensor data readings is not visualized, however, this can change since clustering is non-deterministic.\n",
    "Increasing the number of clusters we see topology violations again in the neurons belonging to the cluster with low sensor data readings.\n",
    "\n",
    "With agglomerative clustering we see clusters get aggregated, especially the low sensor data cluster.\n"
   ]
  },
  {
   "cell_type": "markdown",
   "id": "5b5e4758aee8df6d",
   "metadata": {
    "collapsed": false
   },
   "source": [
    "%TODO add pictures"
   ]
  },
  {
   "cell_type": "markdown",
   "id": "8b19826f50c22a0d",
   "metadata": {
    "collapsed": false
   },
   "source": [
    "## 16. Quantization error\n",
    "\n",
    "The visualization shows the average distance between the input vector, and it's best matching unit and serves as an indication of how well the map is trained.\n",
    "\n",
    "We observe only one neuron with a high quantization error."
   ]
  },
  {
   "cell_type": "markdown",
   "id": "cc932368c50e3bff",
   "metadata": {
    "collapsed": false
   },
   "source": [
    "%TODO"
   ]
  },
  {
   "cell_type": "markdown",
   "id": "f4d8aec32c449a45",
   "metadata": {
    "collapsed": false
   },
   "source": [
    "## 17. Topographic Error\n",
    "\n",
    "The topographic error visualizes how well the SOM preserves the topography of the input\n",
    "space by calculating the percentage of data samples for which the first and second BMU are not placed in adjacent units in the SOM.\n",
    "\n",
    "We notice that the cluster with low sensor readings has a high amount of topographic errors, but the cluster is dense and according to the lecture this might be misleading. "
   ]
  },
  {
   "cell_type": "markdown",
   "id": "93f071d043c6f074",
   "metadata": {
    "collapsed": false
   },
   "source": [
    "%TODO add pictures"
   ]
  },
  {
   "cell_type": "markdown",
   "id": "bc7307d684c1f8ff",
   "metadata": {
    "collapsed": false
   },
   "source": [
    "## 18. SOMStreamVis\n",
    "\n",
    "The SOMStreamVis plots best matching BMU indexes over time (natural order of samples) and can provide additional information to a SOM visualization.\n",
    "\n",
    "We used the SOMStreamVis together with the Clustering visualization. Colors are therefore matched between cluster and the matching BMUs over time.\n",
    "The dataset contains information from the 22.12. starting at 11 am until the 26.12. at 9 am, followed by a gap until the 10.01. 15:30 (at sample number 8086) and ending on the 11.01. at 9am.\n",
    "SOMStreamVis reflects patterns in the readings, data that belongs to the cluster with low sensor readings match samples from the nights and the high sensor readings are found in samples from afternoons and evenings. The 25.12. is an outlier in the sense that there is no match with the high sensor reading cluster in the afternoon/evening, indicating low occupancy.\n",
    "\n"
   ]
  },
  {
   "cell_type": "markdown",
   "id": "ab64af0c17b67a98",
   "metadata": {
    "collapsed": false
   },
   "source": [
    "%TODO add pictures"
   ]
  },
  {
   "cell_type": "markdown",
   "id": "12bb4b92285466e7",
   "metadata": {
    "collapsed": false
   },
   "source": [
    "## 18. Intrinsic distance\n",
    "\n",
    "Intrinsic distance visualization combines topographic and quantization error visualizations.\n",
    "\n",
    "Due to performance issues or a bug, we weren't able to display the visualization. According to the logging we have built into it, the calculate function never terminated."
   ]
  },
  {
   "cell_type": "markdown",
   "id": "5559fe469c116e7e",
   "metadata": {
    "collapsed": false
   },
   "source": [
    "%TODO add pictures"
   ]
  },
  {
   "cell_type": "markdown",
   "id": "757d7fae33a7a7d2",
   "metadata": {
    "collapsed": false
   },
   "source": [
    "## 19. Mnemonic SOM\n",
    "\n",
    "Due to performance issues on this dataset, we were unable to render this visualization. The logging we additionally implemented indicated that the calculate function never terminated."
   ]
  },
  {
   "cell_type": "markdown",
   "id": "3d956e66ce2dc98d",
   "metadata": {
    "collapsed": false
   },
   "source": [
    "% TODO add pictures"
   ]
  }
 ],
 "metadata": {
  "kernelspec": {
   "display_name": "Python 3",
   "language": "python",
   "name": "python3"
  },
  "language_info": {
   "codemirror_mode": {
    "name": "ipython",
    "version": 3
   },
   "file_extension": ".py",
   "mimetype": "text/x-python",
   "name": "python",
   "nbconvert_exporter": "python",
   "pygments_lexer": "ipython3",
   "version": "3.9.18"
  }
 },
 "nbformat": 4,
 "nbformat_minor": 5
}
