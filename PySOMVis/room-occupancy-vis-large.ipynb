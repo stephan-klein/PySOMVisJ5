{
 "cells": [
  {
   "cell_type": "markdown",
   "source": [
    "# Visualizations large SOM - Room occupancy dataset"
   ],
   "metadata": {
    "collapsed": false
   },
   "id": "585202e034b268e"
  },
  {
   "cell_type": "markdown",
   "source": [
    "## 1. Hit histogram\n",
    "The hit histogram visualizes the frequency with which neurons get hit during the training of a SOM.\n",
    "\n",
    "We identify 3 clusters: a small one at the top, a bigger, yet sparse one in the middle and a dense one at the bottom. The neurons most frequently hit belong to the bottom cluster.\n"
   ],
   "metadata": {
    "collapsed": false
   },
   "id": "4b88a759c77a228c"
  },
  {
   "cell_type": "markdown",
   "source": [
    "%TODO add pictures"
   ],
   "metadata": {
    "collapsed": false
   },
   "id": "72ba3a64de5d613b"
  },
  {
   "cell_type": "markdown",
   "source": [
    "## 2. Smoothed data histogram\n",
    "\n",
    "The SDH is an extension of hit histograms that maps input vectors onto n-best matching units and achieves a smoothing effect.\n",
    "\n",
    "Compared to the visualization of the smaller dataset, the smoothing factor has less of a visible effect on this dataset. With the weighted SDH additional neurons become visible."
   ],
   "metadata": {
    "collapsed": false
   },
   "id": "8c3c0b9850ac78e9"
  },
  {
   "cell_type": "markdown",
   "source": [
    "%TODO add pictures"
   ],
   "metadata": {
    "collapsed": false
   },
   "id": "e19be78372361ed7"
  },
  {
   "cell_type": "markdown",
   "source": [
    "## 3. Neighbourhood graph\n",
    "\n",
    "Neighbourhood graphs visualize which areas of the SOM are in proximity based on the input space.\n",
    "\n",
    "We plotted the neighbourhood graph for 8 nearest neighbours over a U-Matrix. We observe more long lines between the center cluster and other smaller clusters, but not to the top cluster.\n",
    "\n",
    "Using the radius approach, we set the radius to a value of 2.0. Same as with the smaller dataset, the connections formed are different compared to the KNN approach. Most connections are displayed between the middle and the bottom clusters. Similar to the KNN approach, there are no connections to the top cluster unless we set the radius to a very high value."
   ],
   "metadata": {
    "collapsed": false
   },
   "id": "7d9c608cf4675621"
  },
  {
   "cell_type": "markdown",
   "source": [
    "%TODO add pictures"
   ],
   "metadata": {
    "collapsed": false
   },
   "id": "f4fa4b47f3c64279"
  },
  {
   "cell_type": "markdown",
   "source": [
    "## 4. Sky Metaphor\n",
    "\n",
    "Sky Metaphor is another density visualization, but maps data items on the exact position within a unit and therefore helps identify similarity between inputs within the same unit or across neighbouring units more accurately.\n",
    "\n",
    "\n",
    "TODO add text?\n"
   ],
   "metadata": {
    "collapsed": false
   },
   "id": "974feaf320b122a7"
  },
  {
   "cell_type": "markdown",
   "source": [
    "%TODO add pictures"
   ],
   "metadata": {
    "collapsed": false
   },
   "id": "795acde7344fd006"
  },
  {
   "cell_type": "markdown",
   "source": [
    "## 5. Activity Histogram\n",
    "\n",
    "The Activity Histogram per data point visualizes the distance between input vector and all weight vectors.\n",
    "\n",
    "TODO add text"
   ],
   "metadata": {
    "collapsed": false
   },
   "id": "aa91a85d7a2325e6"
  },
  {
   "cell_type": "markdown",
   "source": [
    "%TODO"
   ],
   "metadata": {
    "collapsed": false
   },
   "id": "1eb9483a310cf6ee"
  },
  {
   "cell_type": "markdown",
   "source": [
    "## 6. Minimum spanning tree\n",
    "\n",
    "The Minimum Spanning Tree visualizes related nodes on the map by connecting similar nodes with each other.  The weights of the edges are computed by a distance metric between the vectors of the vertices and subsequently minimized.\n",
    "ADD CITATION https://www.ifs.tuwien.ac.at/~mayer/publications/pdf/may_icann10.pdf\n",
    "\n",
    "There are four available settings for the distance in PySOMVis: all, diagonal, direct, MST input data. We could only test it with the All option, due to performance problems.\n",
    "\n"
   ],
   "metadata": {
    "collapsed": false
   },
   "id": "dd4fcd477fe3218c"
  },
  {
   "cell_type": "markdown",
   "source": [
    "%TODO"
   ],
   "metadata": {
    "collapsed": false
   },
   "id": "49e5119098610d1"
  },
  {
   "cell_type": "markdown",
   "source": [
    "## 7. Cluster Connections\n",
    "\n",
    "In this visualization technique, connecting lines are drawn between units based on threshold values.\n",
    "\n",
    "We observe that with a certain threshold combination we can clearly see the cluster structures. If the thresholds are too low, the clusters are not as distinctly visible in the visualization.\n"
   ],
   "metadata": {
    "collapsed": false
   },
   "id": "1dc0e31372bed27c"
  },
  {
   "cell_type": "markdown",
   "source": [
    "%TODO"
   ],
   "metadata": {
    "collapsed": false
   },
   "id": "fbbbeaf608751c57"
  },
  {
   "cell_type": "markdown",
   "source": [
    "## 8.D-Matrix\n",
    "The D-Matrix is similar to the U-Matrix, but averages the distance instead of using interpolation.\n",
    "\n",
    "This results in a similar visualisation, but with smoother transitions between \"mountains\" and \"valleys\". The boundaries are therefore not as clear.\n"
   ],
   "metadata": {
    "collapsed": false
   },
   "id": "ec4f6fa8d6a3e929"
  },
  {
   "cell_type": "markdown",
   "source": [
    "%TODO\n"
   ],
   "metadata": {
    "collapsed": false
   },
   "id": "bc2235a879da65b5"
  },
  {
   "cell_type": "markdown",
   "source": [],
   "metadata": {
    "collapsed": false
   },
   "id": "7e85de5d1405dcfb"
  },
  {
   "cell_type": "markdown",
   "source": [
    "## 9.U-Matrix\n",
    "The U-Matrix visualization displays the distances between neurons on the SOM grid. Low values correspond to small distances between neighbouring neurons, whereas high values indicate large distances and can be used to identify cluster boundaries. \n",
    "\n",
    "The visualization helps to discern individual cluster structures that appeared unclear in earlier visualizations.\n",
    " Especially the clusters with low sensor reading values form coherent regions(valleys) with visible cluster boundaries in the U-matrix. The regions with high sensor readings (assuming high occupancy) do not form coherent, but noisy regions."
   ],
   "metadata": {
    "collapsed": false
   },
   "id": "2bff1d462d4afcec"
  },
  {
   "cell_type": "markdown",
   "source": [
    "%TODO"
   ],
   "metadata": {
    "collapsed": false
   },
   "id": "77ffb8cf479fe453"
  },
  {
   "cell_type": "markdown",
   "source": [
    "## 10.P-Matrix & U*-Matrix\n",
    "\n",
    "Unlike the U-Matrix, P-Matrix is a density and not a distance based metric. It involves estimating the empirical density at each neuron's weight vector in the feature space.\n",
    "\n",
    "The U*-Matrix combines both distance and density information, enhancing cluster visualization by adjusting the U-Matrix with density-derived scale factors.\n",
    "  \n",
    "We experimented with higher percentile values, and thus higher radius.\n"
   ],
   "metadata": {
    "collapsed": false
   },
   "id": "6c5dcb81d94a5fdc"
  },
  {
   "cell_type": "markdown",
   "source": [
    "%TODO add pictures"
   ],
   "metadata": {
    "collapsed": false
   },
   "id": "ad429aabdebca70e"
  },
  {
   "cell_type": "markdown",
   "source": [
    "## 11. Pie chart\n",
    "\n",
    "This visualization is for classification type datasets. The room occupancy provides the occupancy count as an integer type target, which is not suitable for this classification type\n",
    " visualization.\n"
   ],
   "metadata": {
    "collapsed": false
   },
   "id": "73f607caff3cc326"
  },
  {
   "cell_type": "markdown",
   "source": [
    "## 12. Chessboard\n",
    "\n",
    "Chessboard visualization is a type of class coloring visualization, combining Voronoi Tesselation and chessboard style pixel coloring according to dominant classes.\n",
    "\n",
    "Since the dataset is not suitable for classification type visualizations, we didn't use this visualization on the room occupancy data."
   ],
   "metadata": {
    "collapsed": false
   },
   "id": "5de76663d4fc5ee5"
  },
  {
   "cell_type": "markdown",
   "source": [
    "## 13. Component planes\n",
    "The component planes visualization shows the distribution of the weights for the selected attributes across the SOM units. \n",
    "\n",
    "The component plane visualization contains two clusters for every light attribute coming from the sensors s1-s4. We can observe a positive correlation with the visualizations of the other attributes such as temperature, sound, PIR. Analysing this together with the visualization for the time of day together with the sensor readings with high values (temperature, co2, motion) point to a higher occupancy during evenings."
   ],
   "metadata": {
    "collapsed": false
   },
   "id": "8b49ba1073fdc9c3"
  },
  {
   "cell_type": "markdown",
   "source": [
    "%TODO"
   ],
   "metadata": {
    "collapsed": false
   },
   "id": "37c382a0dd0a2bf0"
  },
  {
   "cell_type": "markdown",
   "source": [
    "## 14. Metro Map\n",
    "\n",
    "MetroMap is similar to component planes, but groups weights of the selected attribute into bins.\n",
    "Component lines connect the centers of gravity of each bin.\n",
    "\n",
    "When one attribute is selected with the option of 5 bins, we see how the temperature readings from the one sensor are distributed into the bins.\n",
    "\n",
    "If multiple attributes are selected, only one bin is visualized and the gradients of most attributes are very similar going from the cluster with high sensor readings to the one with low sensor readings.\n"
   ],
   "metadata": {
    "collapsed": false
   },
   "id": "63e4307462aefd4"
  },
  {
   "cell_type": "markdown",
   "source": [
    "%TODO"
   ],
   "metadata": {
    "collapsed": false
   },
   "id": "d73037ab14ec676a"
  },
  {
   "cell_type": "markdown",
   "source": [
    "## 15. Clustering\n",
    "\n",
    "Clustering is a non-deterministic division of the map into regions based on the weights.\n",
    "There are two approaches: k-means and agglomerative clustering.\n",
    "\n",
    "With a number of 4 clusters we observe that neurons belonging to the same cluster are in relative proximity, with only a couple of outliers. Our main cluster with low sensor data readings is not visualized, however, this can change since clustering is non-deterministic.\n",
    "Increasing the number of clusters we see topology violations again in the neurons belonging to the cluster with low sensor data readings.\n",
    "\n",
    "With agglomerative clustering we see clusters get aggregated, especially the low sensor data cluster.\n"
   ],
   "metadata": {
    "collapsed": false
   },
   "id": "6a6c90fe1a2614cd"
  },
  {
   "cell_type": "markdown",
   "source": [
    "%TODO add pictures"
   ],
   "metadata": {
    "collapsed": false
   },
   "id": "5b5e4758aee8df6d"
  },
  {
   "cell_type": "markdown",
   "source": [
    "## 16. Quantization error\n",
    "\n",
    "The visualization shows the average distance between the input vector, and it's best matching unit and serves as an indication of how well the map is trained.\n",
    "\n",
    "We observe only one neuron with a high quantization error."
   ],
   "metadata": {
    "collapsed": false
   },
   "id": "8b19826f50c22a0d"
  },
  {
   "cell_type": "markdown",
   "source": [
    "%TODO"
   ],
   "metadata": {
    "collapsed": false
   },
   "id": "cc932368c50e3bff"
  },
  {
   "cell_type": "markdown",
   "source": [
    "## 17. Topographic Error\n",
    "\n",
    "The topographic error visualizes how well the SOM preserves the topography of the input\n",
    "space by calculating the percentage of data samples for which the first and second BMU are not placed in adjacent units in the SOM.\n",
    "\n",
    "We notice that the cluster with low sensor readings has a high amount of topographic errors, but the cluster is dense and according to the lecture this might be misleading. "
   ],
   "metadata": {
    "collapsed": false
   },
   "id": "f4d8aec32c449a45"
  },
  {
   "cell_type": "markdown",
   "source": [
    "%TODO add pictures"
   ],
   "metadata": {
    "collapsed": false
   },
   "id": "93f071d043c6f074"
  },
  {
   "cell_type": "markdown",
   "source": [
    "## 18. SOMStreamVis\n",
    "\n",
    "The SOMStreamVis plots best matching BMU indexes over time (natural order of samples) and can provide additional information to a SOM visualization.\n",
    "\n",
    "We used the SOMStreamVis together with the Clustering visualization. Colors are therefore matched between cluster and the matching BMUs over time.\n",
    "The dataset contains information from the 22.12. starting at 11 am until the 26.12. at 9 am, followed by a gap until the 10.01. 15:30 (at sample number 8086) and ending on the 11.01. at 9am.\n",
    "SOMStreamVis reflects patterns in the readings, data that belongs to the cluster with low sensor readings match samples from the nights and the high sensor readings are found in samples from afternoons and evenings. The 25.12. is an outlier in the sense that there is no match with the high sensor reading cluster in the afternoon/evening, indicating low occupancy.\n",
    "\n"
   ],
   "metadata": {
    "collapsed": false
   },
   "id": "bc7307d684c1f8ff"
  },
  {
   "cell_type": "markdown",
   "source": [
    "%TODO add pictures"
   ],
   "metadata": {
    "collapsed": false
   },
   "id": "ab64af0c17b67a98"
  },
  {
   "cell_type": "markdown",
   "source": [
    "## 18. Intrinsic distance\n",
    "\n",
    "Intrinsic distance visualization combines topographic and quantization error visualizations.\n",
    "\n",
    "Due to performance issues or a bug, we weren't able to display the visualization. According to the logging we have built into it, the calculate function never terminated."
   ],
   "metadata": {
    "collapsed": false
   },
   "id": "12bb4b92285466e7"
  },
  {
   "cell_type": "markdown",
   "source": [
    "%TODO add pictures"
   ],
   "metadata": {
    "collapsed": false
   },
   "id": "5559fe469c116e7e"
  },
  {
   "cell_type": "markdown",
   "source": [
    "## 19. Mnemonic SOM\n",
    "\n",
    "Due to performance issues on this dataset, we were unable to render this visualization. The logging we additionally implemented indicated that the calculate function never terminated."
   ],
   "metadata": {
    "collapsed": false
   },
   "id": "757d7fae33a7a7d2"
  },
  {
   "cell_type": "markdown",
   "source": [
    "% TODO add pictures"
   ],
   "metadata": {
    "collapsed": false
   },
   "id": "3d956e66ce2dc98d"
  }
 ],
 "metadata": {
  "kernelspec": {
   "display_name": "Python 3",
   "language": "python",
   "name": "python3"
  },
  "language_info": {
   "codemirror_mode": {
    "name": "ipython",
    "version": 2
   },
   "file_extension": ".py",
   "mimetype": "text/x-python",
   "name": "python",
   "nbconvert_exporter": "python",
   "pygments_lexer": "ipython2",
   "version": "2.7.6"
  }
 },
 "nbformat": 4,
 "nbformat_minor": 5
}
