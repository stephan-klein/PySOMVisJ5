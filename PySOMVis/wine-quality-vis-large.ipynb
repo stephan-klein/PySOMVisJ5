{
 "cells": [
  {
   "cell_type": "markdown",
   "source": [
    "Visualizations large SOM - Wine quality dataset\n"
   ],
   "metadata": {
    "collapsed": false
   },
   "id": "5bae89cdb40598ea"
  },
  {
   "cell_type": "markdown",
   "source": [
    "## 1. Hit histogram\n",
    "The hit histogram visualizes the frequency with which neurons get hit during the training of a SOM.\n",
    "\n",
    "Compared to the small SOM, there are now visible clusters. We assume this is because the SOM size is now more adequate."
   ],
   "metadata": {
    "collapsed": false
   },
   "id": "2e5bb4087dd9fb8b"
  },
  {
   "cell_type": "markdown",
   "source": [
    "![](img/winel_hit_magma.png)\n",
    "\n"
   ],
   "metadata": {
    "collapsed": false
   },
   "id": "31900faf4be22e77"
  },
  {
   "cell_type": "markdown",
   "source": [
    "## 2. Smoothed data histogram\n",
    "\n",
    "The SDH is an extension of hit histograms that maps input vectors onto n-best matching units and achieves a smoothing effect.\n",
    "\n",
    "The visualization is very similar to the "
   ],
   "metadata": {
    "collapsed": false
   },
   "id": "300f882bb4117d67"
  },
  {
   "cell_type": "markdown",
   "source": [
    "![](img/winel_sdh_10000.png)\n"
   ],
   "metadata": {
    "collapsed": false
   },
   "id": "3ae6d456f0f657cb"
  }
 ],
 "metadata": {
  "kernelspec": {
   "display_name": "Python 3",
   "language": "python",
   "name": "python3"
  },
  "language_info": {
   "codemirror_mode": {
    "name": "ipython",
    "version": 2
   },
   "file_extension": ".py",
   "mimetype": "text/x-python",
   "name": "python",
   "nbconvert_exporter": "python",
   "pygments_lexer": "ipython2",
   "version": "2.7.6"
  }
 },
 "nbformat": 4,
 "nbformat_minor": 5
}
