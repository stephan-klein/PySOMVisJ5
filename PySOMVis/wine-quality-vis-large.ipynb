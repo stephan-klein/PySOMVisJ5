{
 "cells": [
  {
   "cell_type": "markdown",
   "source": [
    "Visualizations large SOM - Wine quality dataset\n"
   ],
   "metadata": {
    "collapsed": false
   },
   "id": "5bae89cdb40598ea"
  },
  {
   "cell_type": "markdown",
   "source": [
    "## 1. Hit histogram\n",
    "The hit histogram visualizes the frequency with which neurons get hit during the training of a SOM.\n",
    "\n",
    "Compared to the small SOM, there are now visible clusters. We assume this is because the SOM size is now more adequate."
   ],
   "metadata": {
    "collapsed": false
   },
   "id": "2e5bb4087dd9fb8b"
  },
  {
   "cell_type": "markdown",
   "source": [
    "![](img/winel_hit_magma.png)\n",
    "\n"
   ],
   "metadata": {
    "collapsed": false
   },
   "id": "31900faf4be22e77"
  },
  {
   "cell_type": "markdown",
   "source": [
    "## 2. Smoothed data histogram\n",
    "\n",
    "The SDH is an extension of hit histograms that maps input vectors onto n-best matching units and achieves a smoothing effect.\n",
    "\n",
    "The visualization is very similar to the hit histogram, but some very small clusters disappear and overall clusters appear more smooth."
   ],
   "metadata": {
    "collapsed": false
   },
   "id": "300f882bb4117d67"
  },
  {
   "cell_type": "markdown",
   "source": [
    "![](img/winel_sdh_10000.png)\n",
    "SDH with smoothing factor 10000"
   ],
   "metadata": {
    "collapsed": false
   },
   "id": "3ae6d456f0f657cb"
  },
  {
   "cell_type": "markdown",
   "source": [
    "## 3. Neighbourhood graph\n",
    "\n",
    "Neighbourhood graphs visualize which areas of the SOM are in proximity based on the input space.\n",
    "\n",
    "We plotted the neighbourhood graph for 4 nearest neighbours over a hit histogram and for the neighbors with radius 1 in the input space. In both cases we see a lot of topology violations, but also some local connections on zooming on a cluster.\n",
    "\n",
    "We double-checked the SOM Training and could not determine any issues, even retrained multiple epochs, but fundamentally we did not receive a different result. On inspecting the separate attribute weights (with the component diagram) we see poor correlation throughout the different attributes. We suspect this upon calculation of the BMUs heterogeneous attribute cancel each other out causing the noise in the SOM."
   ],
   "metadata": {
    "collapsed": false
   },
   "id": "cfad2dda3525accd"
  },
  {
   "cell_type": "markdown",
   "source": [
    "![](img/winel_sdh_10000.png)\n",
    "Smoothing factor 10000"
   ],
   "metadata": {
    "collapsed": false
   },
   "id": "8ba68f1f47aa12c1"
  },
  {
   "cell_type": "markdown",
   "source": [
    "## 4. Sky Metaphor\n",
    "\n",
    "Sky Metaphor is another density visualization, but maps data items on the exact position within a unit and therefore helps identify similarity between inputs within the same unit or across neighbouring units more accurately.\n",
    "\n",
    "The visualization is more \"irregular\" than other density visualizations since data items are not centered within units anymore. We notice that the image becomes less cloudy with a higher pull factor.\n"
   ],
   "metadata": {
    "collapsed": false
   },
   "id": "fe06d201600891a6"
  },
  {
   "cell_type": "markdown",
   "source": [
    "![](img/wine_sky_pf_0.25.png)\n",
    "Sky Metaphor - pull factor 0.25\n",
    "\n",
    "![](img/wine_sky_pf_0.5.png)\n",
    "Sky Metaphor - pull factor 0.5"
   ],
   "metadata": {
    "collapsed": false
   },
   "id": "55b7b730933ca869"
  },
  {
   "cell_type": "markdown",
   "source": [
    "## 5. Activity Histogram\n",
    "\n",
    "The Activity Histogram per data point visualizes the distance between input vector and all weight vectors.\n",
    "\n",
    "We chose two input vectors: 253 and 2886. We notice the one neuron at coordinates ~(0.4,-0,2) that is consistently red for almost all input vectors. This indicates a high distance in all samples in this area."
   ],
   "metadata": {
    "collapsed": false
   },
   "id": "45a0e216b114ae5a"
  },
  {
   "cell_type": "markdown",
   "source": [
    "![](img/wine_activityhist_253.png)\n",
    "Activity histogram - Sample 253\n",
    "\n",
    "![](img/wine_activityhist_2886.png)\n",
    "Activity histogram - Sample 2886"
   ],
   "metadata": {
    "collapsed": false
   },
   "id": "aac93de62d9ec204"
  },
  {
   "cell_type": "markdown",
   "source": [
    "## 6. Minimum spanning tree\n",
    "\n",
    "The Minimum Spanning Tree visualizes related nodes on the map by connecting similar nodes with each other.  The weights of the edges are computed by a distance metric between the vectors of the vertices and subsequently minimized.\n",
    "ADD CITATION https://www.ifs.tuwien.ac.at/~mayer/publications/pdf/may_icann10.pdf\n",
    "\n",
    "There are four available settings for the distance in PySOMVis: all, diagonal, direct, MST input data. We could only test it with the All option, due to performance problems on the other options.\n"
   ],
   "metadata": {
    "collapsed": false
   },
   "id": "c95e26b7274c0a82"
  },
  {
   "cell_type": "markdown",
   "source": [
    "![](img/wine_mspt_all.png)\n"
   ],
   "metadata": {
    "collapsed": false
   },
   "id": "efc4f72dca0f5b0c"
  },
  {
   "cell_type": "markdown",
   "source": [],
   "metadata": {
    "collapsed": false
   },
   "id": "3f2cefa43ed765e6"
  },
  {
   "cell_type": "markdown",
   "source": [],
   "metadata": {
    "collapsed": false
   },
   "id": "b0dfd43f38fc69a3"
  }
 ],
 "metadata": {
  "kernelspec": {
   "display_name": "Python 3",
   "language": "python",
   "name": "python3"
  },
  "language_info": {
   "codemirror_mode": {
    "name": "ipython",
    "version": 2
   },
   "file_extension": ".py",
   "mimetype": "text/x-python",
   "name": "python",
   "nbconvert_exporter": "python",
   "pygments_lexer": "ipython2",
   "version": "2.7.6"
  }
 },
 "nbformat": 4,
 "nbformat_minor": 5
}
