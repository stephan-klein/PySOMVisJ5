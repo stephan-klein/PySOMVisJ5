{
 "cells": [
  {
   "cell_type": "markdown",
   "source": [
    "# Visualizations large SOM - Wine quality dataset\n"
   ],
   "metadata": {
    "collapsed": false
   },
   "id": "5bae89cdb40598ea"
  },
  {
   "cell_type": "markdown",
   "source": [
    "## 1. Hit histogram\n",
    "The hit histogram visualizes the frequency with which neurons get hit during the training of a SOM.\n",
    "\n",
    "Compared to the small SOM, there are now visible clusters. We assume this is because the SOM size is now more adequate."
   ],
   "metadata": {
    "collapsed": false
   },
   "id": "2e5bb4087dd9fb8b"
  },
  {
   "cell_type": "markdown",
   "source": [
    "![](img/winel_hit_magma.png)\n",
    "Hit histogram\n",
    "\n"
   ],
   "metadata": {
    "collapsed": false
   },
   "id": "31900faf4be22e77"
  },
  {
   "cell_type": "markdown",
   "source": [
    "## 2. Smoothed data histogram\n",
    "\n",
    "The SDH is an extension of hit histograms that maps input vectors onto n-best matching units and achieves a smoothing effect.\n",
    "\n",
    "The visualization is very similar to the hit histogram, but some very small clusters disappear and overall clusters appear more smooth."
   ],
   "metadata": {
    "collapsed": false
   },
   "id": "300f882bb4117d67"
  },
  {
   "cell_type": "markdown",
   "source": [
    "![](img/winel_sdh_10000.png)\n",
    "SDH with smoothing factor 10000\n",
    "\n",
    "![](img/winel_sdh_weighted_20000.png)\n",
    "SDH with weighted factor 20000\n"
   ],
   "metadata": {
    "collapsed": false
   },
   "id": "3ae6d456f0f657cb"
  },
  {
   "cell_type": "markdown",
   "source": [
    "## 3. Neighbourhood graph\n",
    "\n",
    "Neighbourhood graphs visualize which areas of the SOM are in proximity based on the input space.\n",
    "\n",
    "We plotted the neighbourhood graph for 2 nearest neighbours (since 5 caused too many lines) over a hit histogram. \n",
    "Compared to the small SOM, the clusters are now clearly identifiable, but still with a high number of topology violations.\n"
   ],
   "metadata": {
    "collapsed": false
   },
   "id": "cfad2dda3525accd"
  },
  {
   "cell_type": "markdown",
   "source": [
    "![](img/winel_nbh_hithist_knn2.png)\n",
    "Neighbourhood graph 2 nearest neighbours\n",
    "\n",
    "\n",
    "![](img/winel_nbh_hithist_knn2_zoom.png)\n",
    "Neighbourhood graph 2 nearest neighbours zoomed in\n"
   ],
   "metadata": {
    "collapsed": false
   },
   "id": "8ba68f1f47aa12c1"
  },
  {
   "cell_type": "markdown",
   "source": [
    "## 4. Sky Metaphor\n",
    "\n",
    "Sky Metaphor is another density visualization, but maps data items on the exact position within a unit and therefore helps identify similarity between inputs within the same unit or across neighbouring units more accurately.\n",
    "\n",
    "The visualization is more \"irregular\" than other density visualizations since data items are not centered within units anymore. We notice that the image becomes less cloudy with a higher pull factor.\n"
   ],
   "metadata": {
    "collapsed": false
   },
   "id": "fe06d201600891a6"
  },
  {
   "cell_type": "markdown",
   "source": [
    "![](img/winel_starmap.png)\n",
    "Sky Metaphor - pull factor 0.25\n",
    "\n",
    "![](img/winel_starmap_zoom.png)\n",
    "Sky Metaphor zoomed in"
   ],
   "metadata": {
    "collapsed": false
   },
   "id": "55b7b730933ca869"
  },
  {
   "cell_type": "markdown",
   "source": [
    "## 5. Activity Histogram\n",
    "\n",
    "The Activity Histogram per data point visualizes the distance between input vector and all weight vectors.\n",
    "\n",
    "We chose two input vectors: 253 and 2886. We notice the one neuron at coordinates ~(-0.02,-0.5) that is consistently red for almost all input vectors. This indicates a high distance in all samples in this area."
   ],
   "metadata": {
    "collapsed": false
   },
   "id": "45a0e216b114ae5a"
  },
  {
   "cell_type": "markdown",
   "source": [
    "![](img/winel_achisto_253.png)\n",
    "Activity histogram - Sample 253\n",
    "\n",
    "![](img/winel_achisto_2886.png)\n",
    "Activity histogram - Sample 2886"
   ],
   "metadata": {
    "collapsed": false
   },
   "id": "aac93de62d9ec204"
  },
  {
   "cell_type": "markdown",
   "source": [
    "## 6. Minimum spanning tree\n",
    "\n",
    "The Minimum Spanning Tree visualizes related nodes on the map by connecting similar nodes with each other.  The weights of the edges are computed by a distance metric between the vectors of the vertices and subsequently minimized.\n",
    "ADD CITATION https://www.ifs.tuwien.ac.at/~mayer/publications/pdf/may_icann10.pdf\n",
    "\n",
    "Unfortunately for the large SOM PySOMVis was not able to produce the visualisation in a reasonable amount on time (On a High performance cloud server with 4 CPUs and 32GB RAM - directly run with python not via jupyter)\n"
   ],
   "metadata": {
    "collapsed": false
   },
   "id": "c95e26b7274c0a82"
  },
  {
   "cell_type": "markdown",
   "source": [
    "## 7. Cluster Connections\n",
    "\n",
    "In this visualization technique, connecting lines are drawn between units based on threshold values. The intensity of the connections between nodes indicates the similarity of underlying data points.\n",
    "\n",
    "We observe some issues with this visualisation on the large SOM. The connections are not rendered in the same way for the small SOM and we can produce some artifacts which only show on zooming or panning."
   ],
   "metadata": {
    "collapsed": false
   },
   "id": "3f2cefa43ed765e6"
  },
  {
   "cell_type": "markdown",
   "source": [
    "![](img/winel_clustercomp.png)\n",
    "(Potentially Faulty) Cluster Connection Visualization\n",
    "\n",
    "![](img/winel_clustercomp_onscroll.png)\n",
    "Artifacts on scrolling"
   ],
   "metadata": {
    "collapsed": false
   },
   "id": "570cf97238956a70"
  },
  {
   "cell_type": "markdown",
   "source": [
    "## 8.U-Matrix\n",
    "The U-Matrix visualization displays the distances between neurons on the SOM grid. Low values correspond to small distances between neighbouring neurons, whereas high values indicate large distances and can be used to identify cluster boundaries. \n",
    "\n",
    "TODO add text"
   ],
   "metadata": {
    "collapsed": false
   },
   "id": "b0dfd43f38fc69a3"
  },
  {
   "cell_type": "markdown",
   "source": [
    "![](img/winel_umatrix.png)\n",
    "U-Matrix"
   ],
   "metadata": {
    "collapsed": false
   },
   "id": "78cf3f1d6cb3f86c"
  },
  {
   "cell_type": "markdown",
   "source": [
    "## 9.D-Matrix\n",
    "The D-Matrix is similar to the U-Matrix, but averages the distance instead of using interpolation.\n",
    "\n",
    "This results in a similar visualisation, but with smoother transitions between \"mountains\" and \"valleys\". The boundaries are therefore not as clear.\n",
    "\n",
    "TODO update text?"
   ],
   "metadata": {
    "collapsed": false
   },
   "id": "d1b18224c7d8d61e"
  },
  {
   "cell_type": "markdown",
   "source": [
    "![](img/winel_dmatrix.png)\n",
    "D-Matrix\n"
   ],
   "metadata": {
    "collapsed": false
   },
   "id": "e3e62c106ae101b"
  },
  {
   "cell_type": "markdown",
   "source": [
    "## 10.P-Matrix & U*-Matrix\n",
    "\n",
    "Unlike the U-Matrix, P-Matrix is a density and not a distance based metric. It involves estimating the empirical density at each neuron's weight vector in the feature space.\n",
    "\n",
    "The U*-Matrix combines both distance and density information, enhancing cluster visualization by adjusting the U-Matrix with density-derived scale factors.\n",
    "  \n",
    "TODO add text"
   ],
   "metadata": {
    "collapsed": false
   },
   "id": "6d54dcc8af3031bc"
  },
  {
   "cell_type": "markdown",
   "source": [
    "\n",
    "![](img/winel_pmatrix_optimal.png)\n",
    "P-Matrix with optimal values\n",
    "\n",
    "![](img/winel_ustarmatrix_optimal.png)\n",
    "U*-Matrix (=P-Matrix + U-Matrix) with optimal values\n"
   ],
   "metadata": {
    "collapsed": false
   },
   "id": "8e12e8356307cd"
  },
  {
   "cell_type": "markdown",
   "source": [
    "## 11. Pie chart\n",
    "\n",
    "We plotted the pie chart over a hit histogram and over a U-Matrix.\n",
    "Each quality score in the dataset (target) is mapped to one color as shown in the legend and the pie charts show what classes and their distribution for each unit. \n",
    "\n",
    "\n",
    "TODO add text"
   ],
   "metadata": {
    "collapsed": false
   },
   "id": "926ce96eb3c345ca"
  },
  {
   "cell_type": "markdown",
   "source": [
    "![](img/winel_piechart.png)\n",
    "Pie Chart over Hit histogram\n"
   ],
   "metadata": {
    "collapsed": false
   },
   "id": "5c8f9d56cd72ae21"
  },
  {
   "cell_type": "markdown",
   "source": [
    "## 12. Chessboard\n",
    "\n",
    "Chessboard visualization is a type of class coloring visualization, combining Voronoi Tesselation and chessboard style pixel coloring according to dominant classes.\n",
    "TODO add text\n"
   ],
   "metadata": {
    "collapsed": false
   },
   "id": "de2ae4c0250a0de8"
  },
  {
   "cell_type": "markdown",
   "source": [
    "![](img/winel_chessboard_voronoi.png)\n",
    "Chessboard visualization\n",
    "\n"
   ],
   "metadata": {
    "collapsed": false
   },
   "id": "c63e357a138fc9d5"
  },
  {
   "cell_type": "markdown",
   "source": [
    "## 13. Component planes\n",
    "The component planes visualization shows the distribution of the weights for the selected attributes across the SOM units. \n",
    "\n",
    "There seems to be more of an overlap in the components here compared to the components planes visualization of the small SOM. Some of the clusters can be identified at least partially on each of the component's visualizations."
   ],
   "metadata": {
    "collapsed": false
   },
   "id": "5642ccb67bec1794"
  },
  {
   "cell_type": "markdown",
   "source": [
    "![](img/winel_comp_0_fixedacidity.png)\n",
    "Component 0 - Fixed acidity\n",
    "\n",
    "![](img/winel_comp_1_volatile_acidity.png)\n",
    "Component 1 - Volatile acidity\n",
    "\n",
    "![](img/winel_comp_2_citric_acidity.png)\n",
    "Component 2 - Citric acidity\n",
    "\n",
    "![](img/winel_comp_3_residual_sugar.png)\n",
    "Component 3 - Residual sugar\n",
    "\n",
    "![](img/winel_comp_4_chlorides.png)\n",
    "Component 4 - Chlorides\n",
    "\n",
    "![](img/winel_comp_5_free_sulfur_dioxide.png)\n",
    "Component 5 - Free sulfur dioxide\n",
    "\n",
    "![](img/winel_comp_6_total_sulfur_dioxide.png)\n",
    "Component 6 - Total sulfur dioxide\n",
    "\n",
    "![](img/winel_comp_7_density.png)\n",
    "Component 7 - Density\n",
    "\n",
    "![](img/winel_comp_8_pH.png)\n",
    "Component 8 - PH\n",
    "\n",
    "![](img/winel_comp_9_sulphates.png)\n",
    "Component 9 - Sulphates\n",
    "\n",
    "![](img/winel_comp_10_sugar.png)\n",
    "Component 10 - Sugar"
   ],
   "metadata": {
    "collapsed": false
   },
   "id": "49b09998dc4d8dcd"
  },
  {
   "cell_type": "markdown",
   "source": [
    "## 14. Metro Map\n",
    "\n",
    "MetroMap is similar to component planes, but groups weights of the selected attribute into bins.\n",
    "Component lines connect the centers of gravity of each bin.\n",
    "\n",
    "When one attribute is selected with the option of 4 bins, we see how the fixed acidity values are distributed into the bins.\n",
    "\n",
    "If multiple attributes are selected, only one bin is visualized.\n",
    "\n",
    "TODO rework text\n"
   ],
   "metadata": {
    "collapsed": false
   },
   "id": "cde32334a901822"
  },
  {
   "cell_type": "markdown",
   "source": [
    "![](img/winel_metro_comp10_4bins.png)\n",
    "Metro Map - 1 attribute, 4 bins\n",
    "\n",
    "![](img/winel_metro_allcomp_level0.4.png)\n",
    "Metro Map - all attributes"
   ],
   "metadata": {
    "collapsed": false
   },
   "id": "6c6556a50bfce34b"
  },
  {
   "cell_type": "markdown",
   "source": [
    "## 15. Clustering\n",
    "\n",
    "Clustering is a non-deterministic division of the map into regions based on the weights.\n",
    "There are two approaches: k-means and agglomerative clustering.\n",
    "\n",
    "With a number of 4 clusters we observe that neurons belonging to the same cluster are in relative proximity, with only a couple of outliers. Our main cluster with low sensor data readings is not visualized, however, this can change since clustering is non-deterministic.\n",
    "Increasing the number of clusters we see topology violations again in the neurons belonging to the cluster with low sensor data readings.\n",
    "\n",
    "With agglomerative clustering we see clusters get aggregated, especially the low sensor data cluster.\n",
    "\n",
    "TODO rework text\n"
   ],
   "metadata": {
    "collapsed": false
   },
   "id": "25affc04165b0be3"
  },
  {
   "cell_type": "markdown",
   "source": [
    "![](img/winel_cluster_kmeans4.png)\n",
    "KMeans clustering with 4 cluster\n",
    "\n",
    "![](img/winel_cluster_agglo_complete_10clusters.png)\n",
    "Agglomerative clustering with 10 clusters\n",
    "\n"
   ],
   "metadata": {
    "collapsed": false
   },
   "id": "87f200f137bb526"
  },
  {
   "cell_type": "markdown",
   "source": [
    "## 16. Quantization error\n",
    "\n",
    "The visualization shows the average distance between the input vector, and it's best matching unit and serves as an indication of how well the map is trained.\n",
    "\n",
    "We notice some quantization errors, but compared to the small SOM it seems the big map is better trained.\n"
   ],
   "metadata": {
    "collapsed": false
   },
   "id": "6eb8412d58cc20df"
  },
  {
   "cell_type": "markdown",
   "source": [
    "![](img/winel_quanterror.png)\n",
    "Quantization error"
   ],
   "metadata": {
    "collapsed": false
   },
   "id": "10ff6ae1b5b92c22"
  },
  {
   "cell_type": "markdown",
   "source": [
    "## 17. Topographic Error\n",
    "\n",
    "The topographic error visualizes how well the SOM preserves the topography of the input\n",
    "space by calculating the percentage of data samples for which the first and second BMU are not placed in adjacent units in the SOM.\n",
    " \n",
    "We notice topographic errors in the clusters, however these might be false positive errors since the clusters are rather dense. "
   ],
   "metadata": {
    "collapsed": false
   },
   "id": "1fa9bd32a8fe530"
  },
  {
   "cell_type": "markdown",
   "source": [
    "![](img/winel_topoerror_4unitnbh.png)\n",
    "Topographic error\n"
   ],
   "metadata": {
    "collapsed": false
   },
   "id": "f21f17d52a3713a9"
  },
  {
   "cell_type": "markdown",
   "source": [
    "## 18. SOMStreamVis\n",
    "\n",
    "The SOMStreamVis plots best matching BMU indexes over time (natural order of samples) and can provide additional information to a SOM visualization.\n",
    "\n",
    "As Wine Quality is not a timeseries the visualisation does not apply for this dataset."
   ],
   "metadata": {
    "collapsed": false
   },
   "id": "d3b8a895f7a18ee4"
  },
  {
   "cell_type": "markdown",
   "source": [
    "## 19. Intrinsic distance\n",
    "\n",
    "Intrinsic distance visualization combines topographic and quantization error visualizations.\n",
    "\n",
    "Due to performance issues, we weren't able to generate the visualization in a reasonable amount on time (On a High performance cloud server with 4 CPUs and 32GB RAM - directly run with python not via jupyter)"
   ],
   "metadata": {
    "collapsed": false
   },
   "id": "4f793522022e02b9"
  },
  {
   "cell_type": "markdown",
   "source": [
    "## 20. Mnemonic SOM\n",
    "\n",
    "Due to an error we were unable to render this visualization.\n",
    "ValueError: cannot reshape array of size 4400 into shape (10,10,11)\n",
    "  File \"/home/sklei/miniconda3/envs/sorg2/lib/python3.12/site-packages/param/depends.py\", line 41, in _depends\n",
    "    return func(*args, **kw)\n",
    "           ^^^^^^^^^^^^^^^^^\n",
    "  File \"/home/sklei/PySOMVisJ5/PySOMVis/controls/controllers.py\", line 418, in trainMnemonicSOM\n",
    "    self._calculate()\n",
    "  File \"/home/sklei/PySOMVisJ5/PySOMVis/mnemonics/mnemonicSOM.py\", line 54, in _calculate\n",
    "    self._main._display(UMatrix.calculate_UMatrix(self._weights, self._controls.M, self._controls.N, self._main._dim))\n",
    "                        ^^^^^^^^^^^^^^^^^^^^^^^^^^^^^^^^^^^^^^^^^^^^^^^^^^^^^^^^^^^^^^^^^^^^^^^^^^^^^^^^^^^^^^^^^^^^^\n",
    "  File \"/home/sklei/PySOMVisJ5/PySOMVis/visualizations/umatrix.py\", line 35, in calculate_UMatrix\n",
    "    U = weights.reshape(m, n, dim)\n",
    "        ^^^^^^^^^^^^^^^^^^^^^^^^^^\n",
    "ValueError: cannot reshape array of size 4400 into shape (10,10,11)\n",
    " "
   ],
   "metadata": {
    "collapsed": false
   },
   "id": "9c84185eea4264"
  }
 ],
 "metadata": {
  "kernelspec": {
   "display_name": "Python 3",
   "language": "python",
   "name": "python3"
  },
  "language_info": {
   "codemirror_mode": {
    "name": "ipython",
    "version": 2
   },
   "file_extension": ".py",
   "mimetype": "text/x-python",
   "name": "python",
   "nbconvert_exporter": "python",
   "pygments_lexer": "ipython2",
   "version": "2.7.6"
  }
 },
 "nbformat": 4,
 "nbformat_minor": 5
}
