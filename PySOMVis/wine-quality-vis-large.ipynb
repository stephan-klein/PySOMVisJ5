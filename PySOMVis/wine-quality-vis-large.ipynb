{
 "cells": [
  {
   "cell_type": "markdown",
   "source": [
    "Visualizations large SOM - Wine quality dataset\n"
   ],
   "metadata": {
    "collapsed": false
   },
   "id": "5bae89cdb40598ea"
  },
  {
   "cell_type": "markdown",
   "source": [
    "## 1. Hit histogram\n",
    "The hit histogram visualizes the frequency with which neurons get hit during the training of a SOM.\n",
    "\n",
    "Compared to the small SOM, there are now visible clusters. We assume this is because the SOM size is now more adequate."
   ],
   "metadata": {
    "collapsed": false
   },
   "id": "2e5bb4087dd9fb8b"
  },
  {
   "cell_type": "markdown",
   "source": [
    "![](img/winel_hit_magma.png)\n",
    "\n"
   ],
   "metadata": {
    "collapsed": false
   },
   "id": "31900faf4be22e77"
  },
  {
   "cell_type": "markdown",
   "source": [
    "## 2. Smoothed data histogram\n",
    "\n",
    "The SDH is an extension of hit histograms that maps input vectors onto n-best matching units and achieves a smoothing effect.\n",
    "\n",
    "The visualization is very similar to the hit histogram, but some very small clusters disappear and overall clusters appear more smooth."
   ],
   "metadata": {
    "collapsed": false
   },
   "id": "300f882bb4117d67"
  },
  {
   "cell_type": "markdown",
   "source": [
    "![](img/winel_sdh_10000.png)\n",
    "SDH with smoothing factor 10000\n",
    "\n",
    "![](img/winel_sdh_weighted_20000.png)\n",
    "SDH with weighted factor 20000\n"
   ],
   "metadata": {
    "collapsed": false
   },
   "id": "3ae6d456f0f657cb"
  },
  {
   "cell_type": "markdown",
   "source": [
    "## 3. Neighbourhood graph\n",
    "\n",
    "Neighbourhood graphs visualize which areas of the SOM are in proximity based on the input space.\n",
    "\n",
    "We plotted the neighbourhood graph for 2 nearest neighbours (since 5 caused too many lines) over a hit histogram. \n",
    "Compared to the small SOM, the clusters are now clearly identifiable, but still with a high number of topology violations.\n"
   ],
   "metadata": {
    "collapsed": false
   },
   "id": "cfad2dda3525accd"
  },
  {
   "cell_type": "markdown",
   "source": [
    "![](img/winel_nbh_hithist_knn2.png)\n",
    "Neighbourhood graph 2 nearest neighbours\n",
    "\n",
    "\n",
    "![](img/winel_nbh_hithist_knn2_zoom.png)\n",
    "Neighbourhood graph 2 nearest neighbours zoomed in\n"
   ],
   "metadata": {
    "collapsed": false
   },
   "id": "8ba68f1f47aa12c1"
  },
  {
   "cell_type": "markdown",
   "source": [
    "## 4. Sky Metaphor\n",
    "\n",
    "Sky Metaphor is another density visualization, but maps data items on the exact position within a unit and therefore helps identify similarity between inputs within the same unit or across neighbouring units more accurately.\n",
    "\n",
    "The visualization is more \"irregular\" than other density visualizations since data items are not centered within units anymore. We notice that the image becomes less cloudy with a higher pull factor.\n"
   ],
   "metadata": {
    "collapsed": false
   },
   "id": "fe06d201600891a6"
  },
  {
   "cell_type": "markdown",
   "source": [
    "![](img/winel_starmap.png)\n",
    "Sky Metaphor - pull factor 0.25\n",
    "\n",
    "![](img/winel_starmap_zoom.png)\n",
    "Sky Metaphor zoomed in"
   ],
   "metadata": {
    "collapsed": false
   },
   "id": "55b7b730933ca869"
  },
  {
   "cell_type": "markdown",
   "source": [
    "## 5. Activity Histogram\n",
    "\n",
    "The Activity Histogram per data point visualizes the distance between input vector and all weight vectors.\n",
    "\n",
    "We chose two input vectors: 253 and 2886. We notice the one neuron at coordinates ~(-0.02,-0.5) that is consistently red for almost all input vectors. This indicates a high distance in all samples in this area."
   ],
   "metadata": {
    "collapsed": false
   },
   "id": "45a0e216b114ae5a"
  },
  {
   "cell_type": "markdown",
   "source": [
    "![](img/winel_achisto_253.png)\n",
    "Activity histogram - Sample 253\n",
    "\n",
    "![](img/winel_achisto_2886.png)\n",
    "Activity histogram - Sample 2886"
   ],
   "metadata": {
    "collapsed": false
   },
   "id": "aac93de62d9ec204"
  },
  {
   "cell_type": "markdown",
   "source": [
    "## 6. Minimum spanning tree\n",
    "\n",
    "The Minimum Spanning Tree visualizes related nodes on the map by connecting similar nodes with each other.  The weights of the edges are computed by a distance metric between the vectors of the vertices and subsequently minimized.\n",
    "ADD CITATION https://www.ifs.tuwien.ac.at/~mayer/publications/pdf/may_icann10.pdf\n",
    "\n",
    "Unfortunately for the large SOM PySOMVis was not able to produce the visualisation in a reasonable amount on time (On a High performance cloud server with 4 CPUs and 32GB RAM - directly run with python not via jupyter)\n"
   ],
   "metadata": {
    "collapsed": false
   },
   "id": "c95e26b7274c0a82"
  },
  {
   "cell_type": "markdown",
   "source": [
    "## 7. Cluster Connections\n",
    "\n",
    "In this visualization technique, connecting lines are drawn between units based on threshold values. The intensity of the connections between nodes indicates the similarity of underlying data points.\n",
    "\n",
    "We observe some issues with this visualisation on the large SOM. The connections are not rendered in the same way for the small SOM and we can produce some artifacts which only show on zooming or panning."
   ],
   "metadata": {
    "collapsed": false
   },
   "id": "3f2cefa43ed765e6"
  },
  {
   "cell_type": "markdown",
   "source": [
    "![](img/winel_clustercomp.png)\n",
    "(Potentially Faulty) Cluster Connection Visualization\n",
    "\n",
    "![](img/winel_clustercomp_onscroll.png)\n",
    "Artifacts on scrolling"
   ],
   "metadata": {
    "collapsed": false
   },
   "id": "570cf97238956a70"
  },
  {
   "cell_type": "markdown",
   "source": [
    "## 8.U-Matrix\n",
    "The U-Matrix visualization displays the distances between neurons on the SOM grid. Low values correspond to small distances between neighbouring neurons, whereas high values indicate large distances and can be used to identify cluster boundaries. \n",
    "\n",
    "The U-matrix visualization leads to similar findings as previously discussed visualizations. The data is noisy, there is a mix of low and high values across the SOM. There is one identifiable cluster boundary in the center-right region.\n"
   ],
   "metadata": {
    "collapsed": false
   },
   "id": "b0dfd43f38fc69a3"
  },
  {
   "cell_type": "markdown",
   "source": [
    "![](img/winel_umatrix.png)\n",
    "U-Matrix"
   ],
   "metadata": {
    "collapsed": false
   },
   "id": "78cf3f1d6cb3f86c"
  },
  {
   "cell_type": "markdown",
   "source": [
    "## 9.D-Matrix\n",
    "The D-Matrix is similar to the U-Matrix, but averages the distance instead of using interpolation.\n",
    "\n",
    "This results in a similar visualisation, but with smoother transitions between \"mountains\" and \"valleys\". The boundaries are therefore not as clear.\n"
   ],
   "metadata": {
    "collapsed": false
   },
   "id": "d1b18224c7d8d61e"
  },
  {
   "cell_type": "markdown",
   "source": [
    "![](img/winel_dmatrix.png)\n",
    "D-Matrix\n"
   ],
   "metadata": {
    "collapsed": false
   },
   "id": "e3e62c106ae101b"
  },
  {
   "cell_type": "markdown",
   "source": [
    "## 10.P-Matrix & U*-Matrix\n",
    "\n",
    "Unlike the U-Matrix, P-Matrix is a density and not a distance based metric. It involves estimating the empirical density at each neuron's weight vector in the feature space.\n",
    "\n",
    "The U*-Matrix combines both distance and density information, enhancing cluster visualization by adjusting the U-Matrix with density-derived scale factors.\n",
    "  \n",
    "We see the Low density regions (0.5, -0.1) and (-0.4, 0.1) shown in the P-Matrix coinside with high distance regions (U-Matrix) resulting in a overall uniform distribution in the combined visualisation (U*-Matrix)"
   ],
   "metadata": {
    "collapsed": false
   },
   "id": "6d54dcc8af3031bc"
  },
  {
   "cell_type": "markdown",
   "source": [
    "\n",
    "![](img/winel_pmatrix_optimal.png)\n",
    "P-Matrix with optimal values\n",
    "\n",
    "![](img/winel_ustarmatrix_optimal.png)\n",
    "U*-Matrix (=P-Matrix + U-Matrix) with optimal values\n"
   ],
   "metadata": {
    "collapsed": false
   },
   "id": "8e12e8356307cd"
  },
  {
   "cell_type": "markdown",
   "source": [
    "## 11. Pie chart\n",
    "\n",
    "We plotted the pie chart over a hit histogram and over a U-Matrix.\n",
    "Each quality score in the dataset (target) is mapped to one color as shown in the legend and the pie charts show what classes and their distribution for each unit. \n",
    "\n",
    "\n"
   ],
   "metadata": {
    "collapsed": false
   },
   "id": "926ce96eb3c345ca"
  },
  {
   "cell_type": "markdown",
   "source": [
    "![](img/winel_piechart.png)\n",
    "Pie Chart over Hit histogram\n"
   ],
   "metadata": {
    "collapsed": false
   },
   "id": "5c8f9d56cd72ae21"
  },
  {
   "cell_type": "markdown",
   "source": [
    "## 12. Chessboard\n",
    "\n",
    "Chessboard visualization is a type of class coloring visualization, combining Voronoi Tesselation and chessboard style pixel coloring according to dominant classes.\n"
   ],
   "metadata": {
    "collapsed": false
   },
   "id": "de2ae4c0250a0de8"
  },
  {
   "cell_type": "markdown",
   "source": [
    "![](img/wine_pie_hhist_full.png)\n",
    "Pie Chart over Hit histogram\n",
    "\n",
    "![](img/wine_pie_umatrix_full.png)\n",
    "Pie Chart over U-Matrix"
   ],
   "metadata": {
    "collapsed": false
   },
   "id": "c63e357a138fc9d5"
  }
 ],
 "metadata": {
  "kernelspec": {
   "display_name": "Python 3",
   "language": "python",
   "name": "python3"
  },
  "language_info": {
   "codemirror_mode": {
    "name": "ipython",
    "version": 2
   },
   "file_extension": ".py",
   "mimetype": "text/x-python",
   "name": "python",
   "nbconvert_exporter": "python",
   "pygments_lexer": "ipython2",
   "version": "2.7.6"
  }
 },
 "nbformat": 4,
 "nbformat_minor": 5
}
