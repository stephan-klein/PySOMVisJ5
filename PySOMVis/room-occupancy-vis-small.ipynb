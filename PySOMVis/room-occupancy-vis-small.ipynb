{
 "cells": [
  {
   "cell_type": "markdown",
   "source": [
    "Visualizations normal SOM - Room occupancy dataset"
   ],
   "metadata": {
    "collapsed": false
   },
   "id": "24193ef72435014d"
  },
  {
   "cell_type": "code",
   "execution_count": null,
   "outputs": [],
   "source": [],
   "metadata": {
    "collapsed": false
   },
   "id": "1a8af8db624c4a2c"
  }
 ],
 "metadata": {
  "kernelspec": {
   "display_name": "Python 3",
   "language": "python",
   "name": "python3"
  },
  "language_info": {
   "codemirror_mode": {
    "name": "ipython",
    "version": 2
   },
   "file_extension": ".py",
   "mimetype": "text/x-python",
   "name": "python",
   "nbconvert_exporter": "python",
   "pygments_lexer": "ipython2",
   "version": "2.7.6"
  }
 },
 "nbformat": 4,
 "nbformat_minor": 5
}
