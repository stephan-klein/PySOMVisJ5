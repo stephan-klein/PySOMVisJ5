{
 "cells": [
  {
   "cell_type": "markdown",
   "id": "24193ef72435014d",
   "metadata": {
    "collapsed": false
   },
   "source": [
    "# Visualizations small SOM - Room occupancy dataset\n",
    "\n",
    "In this notebook we prepare demonstrations of different PySomVis Visualisations.\n",
    "\n",
    "Dataset: Room Occupancy (See https://archive.ics.uci.edu/dataset/864/room+occupancy+estimation) including 16 sensory features and 10129 instances on which we train a 60x40 SOM with MiniSom. For performance reasons the SOM is trained outside of the notebook and the visualisations gathered from a running pysom instance (See occupancy_s_pyson.py)"
   ]
  },
  {
   "cell_type": "markdown",
   "id": "351ecac8ff8fe49b",
   "metadata": {
    "collapsed": false
   },
   "source": [
    "## 1. Hit histogram\n",
    "The hit histogram visualizes the frequency with which neurons get hit during the training of a SOM.\n",
    "\n",
    "We use a gradient from black to white to visualize the hits, white representing the nodes with the most hits.\n",
    "There is a similar pattern of clusters as in the component planes visualisation, where the low occupancy region shows the most hits.\n"
   ]
  },
  {
   "cell_type": "markdown",
   "id": "259cbce45ec9e0cd",
   "metadata": {
    "collapsed": false
   },
   "source": [
    "![](img/occs_hithist_gistgray.png)\n",
    "\n",
    "Hit histogram \n"
   ]
  },
  {
   "cell_type": "markdown",
   "id": "5c0259d317e14b49",
   "metadata": {
    "collapsed": false
   },
   "source": [
    "## 2. Smoothed data histogram\n",
    "\n",
    "The SDH is an extension of hit histograms that maps input vectors onto n-best matching units and achieves a smoothing effect.\n",
    "\n",
    "We experimented with different smoothing factors. As expected the smoothing factor 1 gives us the same visualization as the hit histogram visualization. Bigger and smoother clusters become visible with higher factors such as 50. \n",
    "With the weighted SDH approach in particular, three clusters become clear."
   ]
  },
  {
   "cell_type": "markdown",
   "id": "cce559d1a16b1a36",
   "metadata": {
    "collapsed": false
   },
   "source": [
    "![SDH](img/occs_hithistsdh_factor49_gistgray.png)\n",
    "SHD with factor 49\n",
    "\n",
    "![SDH weighted factor](img/occs_hithistsdh_weighted_factor49_gistgray.png)\n",
    "SDH with weighted factor 49"
   ]
  },
  {
   "cell_type": "markdown",
   "id": "dc7c75a055e01804",
   "metadata": {
    "collapsed": false
   },
   "source": [
    "## 3. Neighbourhood graph\n",
    "\n",
    "Neighbourhood graphs visualize which areas of the SOM are in proximity based on the input space.\n",
    "\n",
    "We plotted the neighbourhood graph for 8 nearest neighbours over a hit histogram. There are only a couple of long lines and most connections are within clusters especially in the cluster with high readings from the sensors, which indicates that the topology is mainly preserved well.\n",
    "\n",
    "Using the radius approach, we start noticing graph lines with a radius of 0.9.\n",
    "The connections formed are different compared to the KNN approach, with two observations:\n",
    "for the cluster with high sensor data readings, we see no neighborhood connections with the radius approach unlike the knn approach which shows multiple edges. This indicates a low density cluster. Moreover, additional connections between the clusters with lower sensor data readings emerge with the radius approach."
   ]
  },
  {
   "cell_type": "markdown",
   "id": "ff770c0b2b2b0384",
   "metadata": {
    "collapsed": false
   },
   "source": [
    "![](img/occs_hithist_neigborhood_knn8.png)\n",
    "Neighbourhood graph 8 nearest neighbours\n",
    "\n",
    "![](img/occs_hithist_neigborhood_radius_0.9.png)\n",
    "Neighbourhood graph radius of 0.9\n"
   ]
  },
  {
   "cell_type": "markdown",
   "id": "ba361b673186df6b",
   "metadata": {
    "collapsed": false
   },
   "source": [
    "## 4. Sky Metaphor\n",
    "\n",
    "Sky Metaphor is another density visualization, but maps data items on the exact position within a unit and therefore helps identify similarity between inputs within the same unit or across neighbouring units more accurately.\n",
    "\n",
    "The visualization is more \"irregular\" than other density visualizations since data items are not centered within units anymore.\n"
   ]
  },
  {
   "cell_type": "markdown",
   "id": "9e2922e7083bdc81",
   "metadata": {
    "collapsed": false
   },
   "source": [
    "![](img/occs_skymetaphor.png)\n",
    "Sky metaphor "
   ]
  },
  {
   "cell_type": "markdown",
   "id": "4a8e5e9c647563dd",
   "metadata": {
    "collapsed": false
   },
   "source": [
    "## 5. Activity Histogram\n",
    "\n",
    "The Activity Histogram per data point visualizes the distance between input vector and all weight vectors.\n",
    "\n",
    "We chose two input vectors: 0 and 816. Sample 0 represents a sample with low sensor readings as opposed to sample 816 which has high sensor readings.\n",
    "Sample 0 shows cluster homogeneity, while sample 816 reveals some topology violations in the high sensor readings cluster indicating cluster substructures."
   ]
  },
  {
   "cell_type": "markdown",
   "id": "c5cf7f4186f101ec",
   "metadata": {
    "collapsed": false
   },
   "source": [
    "![](img/occs_acthistogram_0.png)\n",
    "Activity histogram sample 0\n",
    "\n",
    "![](img/occs_acthistogram_816.png)\n",
    "Activity histogram sample 816"
   ]
  },
  {
   "cell_type": "markdown",
   "id": "3403c0e817a26746",
   "metadata": {
    "collapsed": false
   },
   "source": [
    "## 6. Minimum spanning tree\n",
    "\n",
    "The Minimum Spanning Tree visualizes related nodes on the map by connecting similar nodes with each other.  The weights of the edges are computed by a distance metric between the vectors of the vertices and subsequently minimized.\n",
    "ADD CITATION https://www.ifs.tuwien.ac.at/~mayer/publications/pdf/may_icann10.pdf\n",
    "\n",
    "There are four available settings in PySOMVis: all, diagonal, direct, MST input data. We could only test it with the All option, due to performance problems.\n"
   ]
  },
  {
   "cell_type": "markdown",
   "id": "74edc8dbd291065b",
   "metadata": {
    "collapsed": false
   },
   "source": [
    "![](img/occs_mspt_all.png)\n",
    "MSPT - all"
   ]
  },
  {
   "cell_type": "markdown",
   "id": "3bb055a781db8f86",
   "metadata": {
    "collapsed": false
   },
   "source": [
    "## 7. Cluster Connections\n",
    "\n",
    "In this visualization technique, connecting lines are drawn between units based on threshold values.\n",
    "\n",
    "We observe that with a certain threshold combination we can identify see the cluster boundaries. If the thresholds are too low, the cluster boundaries are not as distinctly visible in the visualization.\n",
    "The area with sparse connections in the bottom-right region shows that the underlying data items are not similar in that region.\n"
   ]
  },
  {
   "cell_type": "markdown",
   "id": "67d2dab2e19b8ee4",
   "metadata": {
    "collapsed": false
   },
   "source": [
    "![](img/occs_cluster_connections-0.22.png)\n",
    "Cluster connections low threshold\n",
    "\n",
    "![](img/occs_cluster_connections-0.33.png)\n",
    "Cluster connections high threshold"
   ]
  },
  {
   "cell_type": "markdown",
   "id": "60c98ccad601bf37",
   "metadata": {
    "collapsed": false
   },
   "source": [
    "## 8.U-Matrix\n",
    "The U-Matrix visualization displays the distances between neurons on the SOM grid. Low values correspond to small distances between neighbouring neurons, whereas high values indicate large distances and can be used to identify cluster boundaries. \n",
    "\n",
    "The visualization helps to discern individual cluster structures that appeared unclear in earlier visualizations.\n",
    " Especially the clusters with low sensor reading values form coherent regions(valleys) with visible cluster boundaries in the U-matrix. The regions with high sensor readings (assuming high occupancy) do not form coherent, but noisy regions."
   ]
  },
  {
   "cell_type": "markdown",
   "id": "e20f62d13289d8ac",
   "metadata": {
    "collapsed": false
   },
   "source": [
    "![](img/occs_umatrix.png)\n",
    "U-Matrix "
   ]
  },
  {
   "cell_type": "markdown",
   "id": "2878d126578e2ccb",
   "metadata": {
    "collapsed": false
   },
   "source": [
    "## 9.D-Matrix\n",
    "The D-Matrix is similar to the U-Matrix, but averages the distance instead of using interpolation.\n",
    "\n",
    "This results in a similar visualisation, but with smoother transitions between \"mountains\" and \"valleys\". The boundaries are therefore not as clear.\n"
   ]
  },
  {
   "cell_type": "markdown",
   "id": "e24f7eb542a9e9e0",
   "metadata": {
    "collapsed": false
   },
   "source": [
    "![](img/occs_dmatrix.png)\n",
    "D-Matrix\n"
   ]
  },
  {
   "cell_type": "markdown",
   "id": "5753798cb49009e",
   "metadata": {
    "collapsed": false
   },
   "source": [
    "## 10.P-Matrix & U*-Matrix\n",
    "\n",
    "Unlike the U-Matrix, P-Matrix is a density and not a distance based metric. It involves estimating the empirical density at each neuron's weight vector in the feature space.\n",
    "\n",
    "The U*-Matrix combines both distance and density information, enhancing cluster visualization by adjusting the U-Matrix with density-derived scale factors.\n",
    "  \n",
    "We experimented with higher percentile values, and thus higher radius.\n"
   ]
  },
  {
   "cell_type": "markdown",
   "id": "fdfed8698f1e5bfe",
   "metadata": {
    "collapsed": false
   },
   "source": [
    "![](img/occs_pmatrix.png)\n",
    "P-matrix\n",
    "\n",
    "![](img/occs_ustarmatrix.png)\n",
    "U*-matrix \n",
    "\n",
    "![](img/occs_ustarmatrix_doublepercentile.png)\n",
    "U*-Matrix with higher percentile and radius\n"
   ]
  },
  {
   "cell_type": "markdown",
   "id": "d46e4b68d823f73d",
   "metadata": {
    "collapsed": false
   },
   "source": [
    "## 11. Pie chart\n",
    "\n",
    "This visualization is for classification type datasets. The room occupancy provides the occupancy count as an integer type target, which is not suitable for this classification visualization.\n"
   ]
  },
  {
   "cell_type": "markdown",
   "id": "e5fd24ab71acca31",
   "metadata": {
    "collapsed": false
   },
   "source": [
    "## 12. Chessboard\n",
    "\n",
    "Chessboard visualization is a type of class coloring visualization, combining Voronoi Tesselation and chessboard style pixel coloring according to dominant classes.\n",
    "\n",
    "Since the dataset is not suitable for classification type visualizations, we didn't use this visualization on the room occupancy data."
   ]
  },
  {
   "cell_type": "markdown",
   "id": "41b0fb30ef959823",
   "metadata": {
    "collapsed": false
   },
   "source": [
    "## 13. Component planes\n",
    "The component planes visualization shows the distribution of the weights for the selected attributes across the SOM units. \n",
    "\n",
    "The component plane visualization contains two clusters for every light attribute coming from the sensors s1-s4. We can observe a positive correlation with the visualizations of the other attributes such as temperature, sound, PIR. Analysing this together with the visualization for the time of day together with the sensor readings with high values (temperature, co2, motion) point to a higher occupancy during evenings."
   ]
  },
  {
   "cell_type": "markdown",
   "id": "fe98c5636f09fdf5",
   "metadata": {
    "collapsed": false
   },
   "source": [
    "![](img/occs_comp_temp.png)\n",
    "Component 0 - Temperature\n",
    "\n",
    "![](img/occs_comp_light.png)\n",
    "Component 4 - Light\n",
    "\n",
    "![](img/occs_comp_sound.png)\n",
    "Component 8 - Sound\n",
    "\n",
    "![](img/occs_comp_co2.png)\n",
    "Component 12 - Co2\n",
    "\n",
    "![](img/occs_comp_pir.png)\n",
    "Component 14 - PIR\n",
    "\n",
    "![](img/occs_comp_timeofday.png)\n",
    "Component 17 - Time of day"
   ]
  },
  {
   "cell_type": "markdown",
   "id": "62f47ea6d43df77e",
   "metadata": {
    "collapsed": false
   },
   "source": [
    "## 14. Metro Map\n",
    "\n",
    "MetroMap is similar to component planes, but groups weights of the selected attribute into bins.\n",
    "Component lines connect the centers of gravity of each bin.\n",
    "\n",
    "When one attribute is selected with the option of 5 bins, we see how the temperature readings from the one sensor are distributed into the bins.\n",
    "\n",
    "If multiple attributes are selected, only one bin is visualized and the gradients of most attributes are very similar going from the cluster with high sensor readings to the one with low sensor readings.\n"
   ]
  },
  {
   "cell_type": "markdown",
   "id": "eccd6e005e359689",
   "metadata": {
    "collapsed": false
   },
   "source": [
    "![](img/occs_metromap_attr1.png)\n",
    "Metro Map - 1 attribute, 5 bins\n",
    "\n",
    "![](img/occs_metromap_allattr.png)\n",
    "Metro Map - all attributes, 1 bin"
   ]
  },
  {
   "cell_type": "markdown",
   "id": "5626435e008de298",
   "metadata": {
    "collapsed": false
   },
   "source": [
    "## 15. Clustering\n",
    "\n",
    "Clustering is a non-deterministic division of the map into regions based on the weights.\n",
    "There are two approaches: k-means and agglomerative clustering.\n",
    "\n",
    "With a number of 4 clusters we observe that neurons belonging to the same cluster are in relative proximity, with only a couple of outliers. Our main cluster with low sensor data readings is not visualized, however, this can change since clustering is non-deterministic.\n",
    "Increasing the number of clusters we see topology violations again in the neurons belonging to the cluster with low sensor data readings.\n",
    "\n",
    "With agglomerative clustering we see clusters get aggregated, especially the low sensor data cluster.\n"
   ]
  },
  {
   "cell_type": "markdown",
   "id": "10ca3a8d04a60893",
   "metadata": {
    "collapsed": false
   },
   "source": [
    "![](img/occs_clusters_4.png)\n",
    "KMeans Clustering with 4 clusters\n",
    "\n",
    "![](img/occs_clusters_8.png)\n",
    "KMeans Clustering with 8 clusters\n",
    "\n",
    "![](img/occs_clusters_agglo_ward8.png)\n",
    "Agglomerative clustering with 8 clusters\n"
   ]
  },
  {
   "cell_type": "markdown",
   "id": "e54b8cf9a6c888c1",
   "metadata": {
    "collapsed": false
   },
   "source": [
    "## 16. Quantization error\n",
    "\n",
    "The visualization shows the average distance between the input vector, and it's best matching unit and serves as an indication of how well the map is trained.\n",
    "\n",
    "We observe only one neuron with a high quantization error."
   ]
  },
  {
   "cell_type": "markdown",
   "id": "b76cee54d1c16fb9",
   "metadata": {
    "collapsed": false
   },
   "source": [
    "![](img/occs_quant_error.png)\n",
    "Quantization error "
   ]
  },
  {
   "cell_type": "markdown",
   "id": "92a11689cf52adf4",
   "metadata": {
    "collapsed": false
   },
   "source": [
    "## 17. Topographic Error\n",
    "\n",
    "The topographic error visualizes how well the SOM preserves the topography of the input\n",
    "space by calculating the percentage of data samples for which the first and second BMU are not placed in adjacent units in the SOM.\n",
    "\n",
    "We notice that the cluster with low sensor readings has a high amount of topographic errors, but the cluster is dense and according to the lecture this might be misleading. "
   ]
  },
  {
   "cell_type": "markdown",
   "id": "63104607e2ee363f",
   "metadata": {
    "collapsed": false
   },
   "source": [
    "![](img/occs_toperror.png)\n",
    "Topographic error"
   ]
  },
  {
   "cell_type": "markdown",
   "id": "dff4610e382e2e9f",
   "metadata": {
    "collapsed": false
   },
   "source": [
    "## 18. SOMStreamVis\n",
    "\n",
    "The SOMStreamVis plots best matching BMU indexes over time (natural order of samples) and can provide additional information to a SOM visualization.\n",
    "\n",
    "We used the SOMStreamVis together with the Clustering visualization. Colors are therefore matched between cluster and the matching BMUs over time.\n",
    "The dataset contains information from the 22.12. starting at 11 am until the 26.12. at 9 am, followed by a gap until the 10.01. 15:30 (at sample number 8086) and ending on the 11.01. at 9am.\n",
    "SOMStreamVis reflects patterns in the readings, data that belongs to the cluster with low sensor readings match samples from the nights and the high sensor readings are found in samples from afternoons and evenings. The 25.12. is an outlier in the sense that there is no match with the high sensor reading cluster in the afternoon/evening, indicating low occupancy.\n",
    "\n"
   ]
  },
  {
   "cell_type": "markdown",
   "id": "529388a0974bba83",
   "metadata": {
    "collapsed": false
   },
   "source": [
    "![](img/occs_somviz_clusters.png)\n",
    "Agglomerative clusters\n",
    "![](img/occs_somviz_timeline.png)\n",
    "Timeseries visualization"
   ]
  },
  {
   "cell_type": "markdown",
   "id": "11f7fa960aa9bedd",
   "metadata": {
    "collapsed": false
   },
   "source": [
    "## 19. Intrinsic distance\n",
    "\n",
    "Intrinsic distance visualization combines topographic and quantization error visualizations.\n",
    "\n",
    "Due to performance issues or a bug, we weren't able to display the visualization. According to the logging we have built into it, the calculate function never terminated."
   ]
  },
  {
   "cell_type": "markdown",
   "id": "8411af04edb52476",
   "metadata": {
    "collapsed": false
   },
   "source": [
    "## 20. Mnemonic SOM\n",
    "\n",
    "Due to performance issues on this dataset, we were unable to render this visualization. The logging we additionally implemented indicated that the calculate function never terminated."
   ]
  }
 ],
 "metadata": {
  "kernelspec": {
   "display_name": "Python 3 (ipykernel)",
   "language": "python",
   "name": "python3"
  },
  "language_info": {
   "codemirror_mode": {
    "name": "ipython",
    "version": 3
   },
   "file_extension": ".py",
   "mimetype": "text/x-python",
   "name": "python",
   "nbconvert_exporter": "python",
   "pygments_lexer": "ipython3",
   "version": "3.9.18"
  }
 },
 "nbformat": 4,
 "nbformat_minor": 5
}
