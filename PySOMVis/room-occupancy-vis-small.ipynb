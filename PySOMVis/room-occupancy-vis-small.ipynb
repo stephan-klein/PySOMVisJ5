{
 "cells": [
  {
   "cell_type": "markdown",
   "id": "24193ef72435014d",
   "metadata": {
    "collapsed": false
   },
   "source": [
    "# Visualizations normal SOM - Room occupancy dataset"
   ]
  },
  {
   "cell_type": "markdown",
   "id": "351ecac8ff8fe49b",
   "metadata": {
    "collapsed": false
   },
   "source": [
    "## 1. Hit histogram\n",
    "The hit histogram visualizes the frequency with which neurons get hit during the training of a SOM.\n",
    "\n",
    "We use a gradient from black to white to visualize the hits, white representing the nodes with the most hits.\n",
    "There is a similar pattern of clusters as in the component planes visualisation, where the low occupancy region shows the most hits.\n"
   ]
  },
  {
   "cell_type": "code",
   "execution_count": null,
   "outputs": [],
   "source": [
    "%TODO add pictures"
   ],
   "metadata": {
    "collapsed": false
   },
   "id": "3102b1de0d68e71d"
  },
  {
   "cell_type": "markdown",
   "source": [
    "## 2. Smoothed data histogram\n",
    "\n",
    "The SDH is an extension of hit histograms that maps input vectors onto n-best matching units and achieves a smoothing effect.\n",
    "\n",
    "We experimented with different smoothing factors. As expected the smoothing factor 1 gives us the same visualization as the hit histogram visualization. Bigger and smoother clusters become visible with higher factors such as 50. \n",
    "With the weighted SDH approach in particular, three clusters become clear."
   ],
   "metadata": {
    "collapsed": false
   },
   "id": "5c0259d317e14b49"
  },
  {
   "cell_type": "code",
   "execution_count": 1,
   "outputs": [
    {
     "ename": "SyntaxError",
     "evalue": "invalid syntax (762324176.py, line 1)",
     "output_type": "error",
     "traceback": [
      "\u001B[0;36m  Cell \u001B[0;32mIn[1], line 1\u001B[0;36m\u001B[0m\n\u001B[0;31m    TODO add pictures\u001B[0m\n\u001B[0m         ^\u001B[0m\n\u001B[0;31mSyntaxError\u001B[0m\u001B[0;31m:\u001B[0m invalid syntax\n"
     ]
    }
   ],
   "source": [
    "%TODO add pictures"
   ],
   "metadata": {
    "collapsed": false,
    "ExecuteTime": {
     "start_time": "2024-02-02T16:22:59.182940200Z"
    }
   },
   "id": "6d8950280de9cc18"
  },
  {
   "cell_type": "markdown",
   "source": [
    "## 3. Neighbourhood graph\n",
    "\n",
    "Neighbourhood graphs visualize which areas of the SOM are in proximity based on the input space.\n",
    "\n",
    "We plotted the neighbourhood graph for 8 nearest neighbours over a hit histogram. There are only a couple of long lines and most connections are within clusters especially in the cluster with high readings from the sensors, which indicates that the topology is mainly preserved well.\n",
    "\n",
    "Using the radius approach, we start noticing graph lines with a radius of 0.9.\n",
    "The connections formed are different compared to the KNN approach, with two observations:\n",
    "for the cluster with high sensor data readings, we see no neighborhood connections with the radius approach unlike the knn approach which shows multiple edges. This indicates a low density cluster. Moreover, additional connections between the clusters with lower sensor data readings emerge with the radius approach."
   ],
   "metadata": {
    "collapsed": false
   },
   "id": "dc7c75a055e01804"
  },
  {
   "cell_type": "code",
   "execution_count": 2,
   "outputs": [
    {
     "name": "stderr",
     "output_type": "stream",
     "text": [
      "UsageError: Line magic function `%TODO` not found.\n"
     ]
    }
   ],
   "source": [
    "%TODO add pictures"
   ],
   "metadata": {
    "collapsed": false,
    "ExecuteTime": {
     "start_time": "2024-02-03T12:16:27.602949800Z"
    }
   },
   "id": "e60940b575ad4fa6"
  },
  {
   "cell_type": "markdown",
   "source": [
    "## 4. Sky Metaphor\n",
    "\n",
    "Sky Metaphor is another density visualization, but maps data items on the exact position within a unit and therefore helps identify similarity between inputs within the same unit or across neighbouring units more accurately.\n",
    "\n",
    "The visualization is more \"irregular\" than other density visualizations since data items are not centered within units anymore.\n"
   ],
   "metadata": {
    "collapsed": false
   },
   "id": "ba361b673186df6b"
  },
  {
   "cell_type": "code",
   "execution_count": null,
   "outputs": [],
   "source": [
    "%TODO add pictures"
   ],
   "metadata": {
    "collapsed": false
   },
   "id": "769e6a031c7ba1dc"
  },
  {
   "cell_type": "markdown",
   "source": [
    "## 5. Activity Histogram\n",
    "\n",
    "The Activity Histogram per data point visualizes the distance between input vector and all weight vectors.\n",
    "\n",
    "We chose two input vectors: 0 and 816. Sample 0 represents a sample with low sensor readings as opposed to sample 816 which has high sensor readings.\n",
    "Sample 0 shows cluster homogenity, while sample 816 reveals some topology violations in the high sensor readings cluster indicating cluster substructures."
   ],
   "metadata": {
    "collapsed": false
   },
   "id": "4a8e5e9c647563dd"
  },
  {
   "cell_type": "code",
   "execution_count": 18,
   "outputs": [
    {
     "name": "stderr",
     "output_type": "stream",
     "text": [
      "UsageError: Line magic function `%TODO` not found.\n"
     ]
    }
   ],
   "source": [
    "%TODO"
   ],
   "metadata": {
    "collapsed": false,
    "ExecuteTime": {
     "end_time": "2024-02-03T19:06:33.341266900Z",
     "start_time": "2024-02-03T19:06:33.337825900Z"
    }
   },
   "id": "20b2bbfedea984"
  },
  {
   "cell_type": "markdown",
   "source": [
    "## 6. Minimum spanning tree\n",
    "\n",
    "The Minimum Spanning Tree visualizes related nodes on the map by connecting similar nodes with each other.  The weights of the edges are computed by a distance metric between the vectors of the vertices and subsequently minimized.\n",
    "ADD CITATION https://www.ifs.tuwien.ac.at/~mayer/publications/pdf/may_icann10.pdf\n",
    "\n",
    "There are four available settings for the distance in PySOMVis: all, diagonal, direct, MST input data. We could only test it with the All option, due to performance problems.\n",
    "\n"
   ],
   "metadata": {
    "collapsed": false
   },
   "id": "3403c0e817a26746"
  },
  {
   "cell_type": "code",
   "execution_count": null,
   "outputs": [],
   "source": [
    "%TODO"
   ],
   "metadata": {
    "collapsed": false
   },
   "id": "b88827b69453e785"
  },
  {
   "cell_type": "markdown",
   "source": [
    "## 7. Cluster Connections\n",
    "\n",
    "In this visualization technique, connecting lines are drawn between units based on threshold values.\n",
    "\n",
    "We observe that with a certain threshold combination we can clearly see the cluster structures. If the thresholds are too low, the clusters are not as distinctly visible in the visualization.\n"
   ],
   "metadata": {
    "collapsed": false
   },
   "id": "3bb055a781db8f86"
  },
  {
   "cell_type": "code",
   "execution_count": null,
   "outputs": [],
   "source": [
    "%TODO"
   ],
   "metadata": {
    "collapsed": false
   },
   "id": "d0f4da20d6e71078"
  },
  {
   "cell_type": "markdown",
   "source": [
    "## 8.D-Matrix\n",
    "The D-Matrix is similar to the U-Matrix, but averages the distance instead of using interpolation.\n",
    "\n",
    "This results in a similar visualisation, but with smoother transitions between \"mountains\" and \"valleys\". The boundaries are therefore not as clear.\n"
   ],
   "metadata": {
    "collapsed": false
   },
   "id": "2878d126578e2ccb"
  },
  {
   "cell_type": "code",
   "execution_count": null,
   "outputs": [],
   "source": [
    "%TODO\n"
   ],
   "metadata": {
    "collapsed": false
   },
   "id": "c581299e9e0cb248"
  },
  {
   "cell_type": "markdown",
   "source": [
    "## 9.U-Matrix\n",
    "The U-Matrix visualization displays the distances between neurons on the SOM grid. Low values correspond to small distances between neighbouring neurons, whereas high values indicate large distances and can be used to identify cluster boundaries. \n",
    "\n",
    "The visualization helps to discern individual cluster structures that appeared unclear in earlier visualizations.\n",
    " Especially the clusters with low sensor reading values form coherent regions(valleys) with visible cluster boundaries in the U-matrix. The regions with high sensor readings (assuming high occupancy) do not form coherent, but noisy regions."
   ],
   "metadata": {
    "collapsed": false
   },
   "id": "60c98ccad601bf37"
  },
  {
   "cell_type": "code",
   "execution_count": null,
   "outputs": [],
   "source": [
    "%TODO"
   ],
   "metadata": {
    "collapsed": false
   },
   "id": "50381679ed48f69b"
  },
  {
   "cell_type": "markdown",
   "source": [
    "## 10.P-Matrix & U*-Matrix\n",
    "\n",
    "Unlike the U-Matrix, P-Matrix is a density and not a distance based metric. It involves estimating the empirical density at each neuron's weight vector in the feature space.\n",
    "\n",
    "The U*-Matrix combines both distance and density information, enhancing cluster visualization by adjusting the U-Matrix with density-derived scale factors.\n",
    "  \n",
    "We experimented with higher percentile values, and thus higher radius.\n"
   ],
   "metadata": {
    "collapsed": false
   },
   "id": "5753798cb49009e"
  },
  {
   "cell_type": "code",
   "execution_count": null,
   "outputs": [],
   "source": [
    "%TODO add pictures"
   ],
   "metadata": {
    "collapsed": false
   },
   "id": "191dbd13f838bcf3"
  },
  {
   "cell_type": "markdown",
   "source": [
    "## 11. Pie chart\n",
    "\n",
    "This visualization is for classification type datasets. The room occupancy provides the occupancy count as an integer type target, which is not suitable for this classification type\n",
    " visualization.\n"
   ],
   "metadata": {
    "collapsed": false
   },
   "id": "d46e4b68d823f73d"
  },
  {
   "cell_type": "markdown",
   "source": [
    "## 12. Chessboard\n",
    "\n",
    "Chessboard visualization is a type of class coloring visualization, combining Voronoi Tesselation and chessboard style pixel coloring according to dominant classes.\n",
    "\n",
    "Since the dataset is not suitable for classification type visualizations, we didn't use this visualization on the room occupancy data."
   ],
   "metadata": {
    "collapsed": false
   },
   "id": "e5fd24ab71acca31"
  },
  {
   "cell_type": "markdown",
   "source": [
    "## 13. Component planes\n",
    "The component planes visualization shows the distribution of the weights for the selected attributes across the SOM units. \n",
    "\n",
    "The component plane visualization contains two clusters for every light attribute coming from the sensors s1-s4. We can observe a positive correlation with the visualizations of the other attributes such as temperature, sound, PIR. Analysing this together with the visualization for the time of day together with the sensor readings with high values (temperature, co2, motion) point to a higher occupancy during evenings."
   ],
   "metadata": {
    "collapsed": false
   },
   "id": "41b0fb30ef959823"
  },
  {
   "cell_type": "code",
   "execution_count": null,
   "outputs": [],
   "source": [
    "%TODO"
   ],
   "metadata": {
    "collapsed": false
   },
   "id": "e46b3f6683c939fc"
  },
  {
   "cell_type": "markdown",
   "source": [
    "## 14. Metro Map\n",
    "\n",
    "MetroMap is similar to component planes, but groups weights of the selected attribute into bins.\n",
    "Component lines connect the centers of gravity of each bin.\n",
    "\n",
    "When one attribute is selected with the option of 5 bins, we see how the temperature readings from the one sensor are distributed into the bins.\n",
    "\n",
    "If multiple attributes are selected, only one bin is visualized and the gradients of most attributes are very similar going from the cluster with high sensor readings to the one with low sensor readings.\n"
   ],
   "metadata": {
    "collapsed": false
   },
   "id": "62f47ea6d43df77e"
  },
  {
   "cell_type": "code",
   "execution_count": null,
   "outputs": [],
   "source": [
    "%TODO"
   ],
   "metadata": {
    "collapsed": false
   },
   "id": "a7158617e8a7944"
  },
  {
   "cell_type": "markdown",
   "source": [
    "## 15. Clustering\n",
    "\n",
    "Clustering is a non-deterministic division of the map into regions based on the weights.\n",
    "There are two approaches: k-means and agglomerative clustering.\n",
    "\n",
    "With a number of 4 clusters we observe that neurons belonging to the same cluster are in relative proximity, with only a couple of outliers. Our main cluster with low sensor data readings is not visualized, however, this can change since clustering is non-deterministic.\n",
    "Increasing the number of clusters we see topology violations again in the neurons belonging to the cluster with low sensor data readings.\n",
    "\n",
    "With agglomerative clustering we see clusters get aggregated, especially the low sensor data cluster.\n"
   ],
   "metadata": {
    "collapsed": false
   },
   "id": "5626435e008de298"
  },
  {
   "cell_type": "code",
   "execution_count": 7,
   "outputs": [
    {
     "name": "stderr",
     "output_type": "stream",
     "text": [
      "UsageError: Line magic function `%TODO` not found.\n"
     ]
    }
   ],
   "source": [
    "%TODO add pictures"
   ],
   "metadata": {
    "collapsed": false,
    "ExecuteTime": {
     "start_time": "2024-02-03T16:10:55.595359500Z"
    }
   },
   "id": "4e859adcad265f90"
  },
  {
   "cell_type": "markdown",
   "source": [
    "## 16. Quantization error\n",
    "\n",
    "The visualization shows the average distance between the input vector, and it's best matching unit and serves as an indication of how well the map is trained.\n",
    "\n",
    "We observe only one neuron with a high quantization error."
   ],
   "metadata": {
    "collapsed": false
   },
   "id": "e54b8cf9a6c888c1"
  },
  {
   "cell_type": "code",
   "execution_count": null,
   "outputs": [],
   "source": [
    "%TODO"
   ],
   "metadata": {
    "collapsed": false
   },
   "id": "b93d256091fb5d0a"
  },
  {
   "cell_type": "markdown",
   "source": [
    "## 17. Topographic Error\n",
    "\n",
    "The topographic error visualizes how well the SOM preserves the topography of the input\n",
    "space by calculating the percentage of data samples for which the first and second BMU are not placed in adjacent units in the SOM.\n",
    "\n",
    "We notice that the cluster with low sensor readings has a high amount of topographic errors, but the cluster is dense and according to the lecture this might be misleading. "
   ],
   "metadata": {
    "collapsed": false
   },
   "id": "92a11689cf52adf4"
  },
  {
   "cell_type": "code",
   "execution_count": 8,
   "outputs": [
    {
     "name": "stderr",
     "output_type": "stream",
     "text": [
      "UsageError: Line magic function `%TODO` not found.\n"
     ]
    }
   ],
   "source": [
    "%TODO add pictures"
   ],
   "metadata": {
    "collapsed": false,
    "ExecuteTime": {
     "start_time": "2024-02-03T16:28:05.592907900Z"
    }
   },
   "id": "6ac461c4e32a85a5"
  },
  {
   "cell_type": "markdown",
   "source": [
    "## 18. SOMStreamVis\n",
    "\n",
    "The SOMStreamVis plots best matching BMU indexes over time (natural order of samples) and can provide additional information to a SOM visualization.\n",
    "\n",
    "We used the SOMStreamVis together with the Clustering visualization. Colors are therefore matched between cluster and the matching BMUs over time.\n",
    "The dataset contains information from the 22.12. starting at 11 am until the 26.12. at 9 am, followed by a gap until the 10.01. 15:30 (at sample number 8086) and ending on the 11.01. at 9am.\n",
    "SOMStreamVis reflects patterns in the readings, data that belongs to the cluster with low sensor readings match samples from the nights and the high sensor readings are found in samples from afternoons and evenings. The 25.12. is an outlier in the sense that there is no match with the high sensor reading cluster in the afternoon/evening, indicating low occupancy.\n",
    "\n"
   ],
   "metadata": {
    "collapsed": false
   },
   "id": "dff4610e382e2e9f"
  },
  {
   "cell_type": "code",
   "execution_count": 9,
   "outputs": [
    {
     "name": "stderr",
     "output_type": "stream",
     "text": [
      "UsageError: Line magic function `%TODO` not found.\n"
     ]
    }
   ],
   "source": [
    "%TODO add pictures"
   ],
   "metadata": {
    "collapsed": false,
    "ExecuteTime": {
     "start_time": "2024-02-03T16:49:02.844511900Z"
    }
   },
   "id": "784b9453e3e0cdb9"
  },
  {
   "cell_type": "markdown",
   "source": [
    "## 18. Intrinsic distance\n",
    "\n",
    "Intrinsic distance visualization combines topographic and quantization error visualizations.\n",
    "\n",
    "Due to performance issues or a bug, we weren't able to display the visualization. According to the logging we have built into it, the calculate function never terminated."
   ],
   "metadata": {
    "collapsed": false
   },
   "id": "11f7fa960aa9bedd"
  },
  {
   "cell_type": "code",
   "execution_count": 12,
   "outputs": [
    {
     "name": "stderr",
     "output_type": "stream",
     "text": [
      "UsageError: Line magic function `%TODO` not found.\n"
     ]
    }
   ],
   "source": [
    "%TODO add pictures"
   ],
   "metadata": {
    "collapsed": false,
    "ExecuteTime": {
     "start_time": "2024-02-03T17:42:25.267381500Z"
    }
   },
   "id": "5a8bc9930cd933c3"
  },
  {
   "cell_type": "markdown",
   "source": [
    "## 19. Mnemonic SOM\n",
    "\n",
    "Due to performance issues on this dataset, we were unable to render this visualization. The logging we additionally implemented indicated that the calculate function never terminated."
   ],
   "metadata": {
    "collapsed": false
   },
   "id": "8411af04edb52476"
  },
  {
   "cell_type": "code",
   "execution_count": 17,
   "outputs": [
    {
     "name": "stderr",
     "output_type": "stream",
     "text": [
      "UsageError: Line magic function `%` not found.\n"
     ]
    }
   ],
   "source": [
    "% TODO add pictures"
   ],
   "metadata": {
    "collapsed": false,
    "ExecuteTime": {
     "end_time": "2024-02-03T18:34:39.282913800Z",
     "start_time": "2024-02-03T18:34:39.282913800Z"
    }
   },
   "id": "16da410c2ed56289"
  }
 ],
 "metadata": {
  "kernelspec": {
   "display_name": "Python 3",
   "language": "python",
   "name": "python3"
  },
  "language_info": {
   "codemirror_mode": {
    "name": "ipython",
    "version": 2
   },
   "file_extension": ".py",
   "mimetype": "text/x-python",
   "name": "python",
   "nbconvert_exporter": "python",
   "pygments_lexer": "ipython2",
   "version": "2.7.6"
  }
 },
 "nbformat": 4,
 "nbformat_minor": 5
}
