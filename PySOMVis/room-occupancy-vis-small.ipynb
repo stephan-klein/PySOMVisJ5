{
 "cells": [
  {
   "cell_type": "markdown",
   "source": [
    "### Visualizations normal SOM - Room occupancy dataset"
   ],
   "metadata": {
    "collapsed": false
   },
   "id": "24193ef72435014d"
  },
  {
   "cell_type": "markdown",
   "source": [
    "## 1. Component planes\n",
    "The component planes visualization shows the distribution of the weights for the selected attributes across the SOM units. \n",
    "\n",
    "The component plane visualization contains two clusters for every light attribute coming from the sensors s1-s4. We can observe a positive correlation with the visualizations of the other attributes such as temperature, sound, PIR. Analysing this together with the visualization for the time of day together with the sensor readings with high values (temperature, co2, motion) point to a higher occupancy during evenings."
   ],
   "metadata": {
    "collapsed": false
   },
   "id": "41b0fb30ef959823"
  },
  {
   "cell_type": "code",
   "execution_count": null,
   "outputs": [],
   "source": [
    "%TODO add pictures"
   ],
   "metadata": {
    "collapsed": false
   },
   "id": "3102b1de0d68e71d"
  },
  {
   "cell_type": "markdown",
   "source": [
    "## 2. Hit histogram\n",
    "The hit histogram visualizes the frequency with which neurons get hit during the training of a SOM.\n",
    "\n",
    "We use a gradient from black to white to visualize the hits, white representing the nodes with the most hits.\n",
    "There is a similar pattern of clusters as in the component planes visualisation, where the low occupancy region shows the most hits.\n"
   ],
   "metadata": {
    "collapsed": false
   },
   "id": "351ecac8ff8fe49b"
  },
  {
   "cell_type": "code",
   "execution_count": 1,
   "outputs": [
    {
     "ename": "SyntaxError",
     "evalue": "invalid syntax (762324176.py, line 1)",
     "output_type": "error",
     "traceback": [
      "\u001B[0;36m  Cell \u001B[0;32mIn[1], line 1\u001B[0;36m\u001B[0m\n\u001B[0;31m    TODO add pictures\u001B[0m\n\u001B[0m         ^\u001B[0m\n\u001B[0;31mSyntaxError\u001B[0m\u001B[0;31m:\u001B[0m invalid syntax\n"
     ]
    }
   ],
   "source": [
    "%TODO add pictures"
   ],
   "metadata": {
    "collapsed": false,
    "ExecuteTime": {
     "end_time": "2024-02-02T16:22:59.201274500Z",
     "start_time": "2024-02-02T16:22:59.182940200Z"
    }
   },
   "id": "6d8950280de9cc18"
  },
  {
   "cell_type": "markdown",
   "source": [
    "## 3.U-Matrix\n",
    "The U-Matrix visualization displays the distances between neurons on the SOM grid. Low values correspond to small distances between neighbouring neurons, whereas high values indicate large distances and can be used to identify cluster boundaries. \n",
    "\n",
    "The visualization helps to discern individual cluster structures that appeared unclear in earlier visualizations.\n",
    " Especially the clusters with low sensor reading values form coherent regions(valleys) with visible cluster boundaries in the U-matrix. The regions with high sensor readings (assuming high occupancy) do not form coherent, but noisy regions."
   ],
   "metadata": {
    "collapsed": false
   },
   "id": "60c98ccad601bf37"
  },
  {
   "cell_type": "code",
   "execution_count": null,
   "outputs": [],
   "source": [
    "%TODO add pictures"
   ],
   "metadata": {
    "collapsed": false
   },
   "id": "769e6a031c7ba1dc"
  },
  {
   "cell_type": "markdown",
   "source": [
    "## 4.D-Matrix\n",
    "The D-Matrix is similar to the U-Matrix, but averages the distance instead of using interpolation.\n",
    "\n",
    "This results in a similar visualisation, but with smoother transitions between \"mountains\" and \"valleys\". The boundaries are therefore not as clear.\n"
   ],
   "metadata": {
    "collapsed": false
   },
   "id": "2878d126578e2ccb"
  },
  {
   "cell_type": "code",
   "execution_count": null,
   "outputs": [],
   "source": [
    "%TODO add pictures"
   ],
   "metadata": {
    "collapsed": false
   },
   "id": "191dbd13f838bcf3"
  },
  {
   "cell_type": "markdown",
   "source": [
    "## 5.P-Matrix & U*-Matrix\n"
   ],
   "metadata": {
    "collapsed": false
   },
   "id": "5753798cb49009e"
  }
 ],
 "metadata": {
  "kernelspec": {
   "display_name": "Python 3",
   "language": "python",
   "name": "python3"
  },
  "language_info": {
   "codemirror_mode": {
    "name": "ipython",
    "version": 2
   },
   "file_extension": ".py",
   "mimetype": "text/x-python",
   "name": "python",
   "nbconvert_exporter": "python",
   "pygments_lexer": "ipython2",
   "version": "2.7.6"
  }
 },
 "nbformat": 4,
 "nbformat_minor": 5
}
