{
 "cells": [
  {
   "cell_type": "markdown",
   "id": "5bae89cdb40598ea",
   "metadata": {
    "collapsed": false
   },
   "source": [
    "# Visualizations large SOM - Wine quality dataset\n",
    "\n",
    "In this notebook we prepare demonstrations of different PySomVis Visualisations.\n",
    "\n",
    "Dataset: Wine Quality (see https://archive.ics.uci.edu/dataset/186/wine+quality) including 11 physicochemical features and 4898 instances on which we train a 200x150 SOM with MiniSom. For performance reasons the SOM is trained outside of the notebook and the visualisations gathered from a running pysom instance (see wine_l_pysom.py).\n",
    "\n",
    "Github project: https://github.com/stephan-klein/PySOMVisJ5\n",
    "\n"
   ]
  },
  {
   "cell_type": "markdown",
   "id": "2e5bb4087dd9fb8b",
   "metadata": {
    "collapsed": false
   },
   "source": [
    "## Hit histogram\n",
    "The hit histogram visualizes the frequency with which neurons get hit during the training of a SOM.\n",
    "\n",
    "Compared to the small SOM, there are now visible clusters. We assume this is because the SOM size is now more adequate."
   ]
  },
  {
   "cell_type": "markdown",
   "id": "31900faf4be22e77",
   "metadata": {
    "collapsed": false
   },
   "source": [
    "![](img/winel_hit_magma.png)\n",
    "Hit histogram\n",
    "\n"
   ]
  },
  {
   "cell_type": "markdown",
   "id": "300f882bb4117d67",
   "metadata": {
    "collapsed": false
   },
   "source": [
    "## Smoothed data histogram\n",
    "\n",
    "The SDH is an extension of hit histograms that maps input vectors onto n-best matching units and achieves a smoothing effect.\n",
    "\n",
    "The visualization is very similar to the hit histogram, but some very small clusters disappear and overall clusters appear more smooth."
   ]
  },
  {
   "cell_type": "markdown",
   "id": "3ae6d456f0f657cb",
   "metadata": {
    "collapsed": false
   },
   "source": [
    "![](img/winel_sdh_10000.png)\n",
    "SDH with smoothing factor 10000\n",
    "\n",
    "![](img/winel_sdh_weighted_20000.png)\n",
    "SDH with weighted factor 20000\n"
   ]
  },
  {
   "cell_type": "markdown",
   "id": "cfad2dda3525accd",
   "metadata": {
    "collapsed": false
   },
   "source": [
    "## Neighbourhood graph\n",
    "\n",
    "Neighbourhood graphs visualize which areas of the SOM are in proximity based on the input space.\n",
    "\n",
    "We plotted the neighbourhood graph for 2 nearest neighbours (since 5 caused too many lines) over a hit histogram. \n",
    "Compared to the small SOM, the clusters are now clearly identifiable, but still with a high number of topology violations.\n"
   ]
  },
  {
   "cell_type": "markdown",
   "id": "8ba68f1f47aa12c1",
   "metadata": {
    "collapsed": false
   },
   "source": [
    "![](img/winel_nbh_hithist_knn2.png)\n",
    "Neighbourhood graph 2 nearest neighbours\n",
    "\n",
    "\n",
    "![](img/winel_nbh_hithist_knn2_zoom.png)\n",
    "Neighbourhood graph 2 nearest neighbours zoomed in\n"
   ]
  },
  {
   "cell_type": "markdown",
   "id": "fe06d201600891a6",
   "metadata": {
    "collapsed": false
   },
   "source": [
    "## Sky Metaphor\n",
    "\n",
    "Sky Metaphor is another density visualization, but maps data items on the exact position within a unit and therefore helps identify similarity between inputs within the same unit or across neighbouring units more accurately.\n",
    "\n",
    "The visualization is more \"irregular\" than other density visualizations since data items are not centered within units anymore.\n"
   ]
  },
  {
   "cell_type": "markdown",
   "id": "55b7b730933ca869",
   "metadata": {
    "collapsed": false
   },
   "source": [
    "![](img/winel_starmap.png)\n",
    "Sky Metaphor - pull factor 0.25\n",
    "\n",
    "![](img/winel_starmap_zoom.png)\n",
    "Sky Metaphor zoomed in"
   ]
  },
  {
   "cell_type": "markdown",
   "id": "45a0e216b114ae5a",
   "metadata": {
    "collapsed": false
   },
   "source": [
    "## Activity Histogram\n",
    "\n",
    "The Activity Histogram per data point visualizes the distance between input vector and all weight vectors.\n",
    "\n",
    "We chose two input vectors: 253 and 2886. We notice the one neuron at coordinates ~(-0.02,-0.5) that is consistently red for almost all input vectors. This indicates a high distance in all samples in this area."
   ]
  },
  {
   "cell_type": "markdown",
   "id": "aac93de62d9ec204",
   "metadata": {
    "collapsed": false
   },
   "source": [
    "![](img/winel_achisto_253.png)\n",
    "Activity histogram - Sample 253\n",
    "\n",
    "![](img/winel_achisto_2886.png)\n",
    "Activity histogram - Sample 2886"
   ]
  },
  {
   "cell_type": "markdown",
   "id": "c95e26b7274c0a82",
   "metadata": {
    "collapsed": false
   },
   "source": [
    "## Minimum spanning tree\n",
    "\n",
    "The Minimum Spanning Tree visualizes related nodes on the map by connecting similar nodes with each other.  The weights of the edges are computed by a distance metric between the vectors of the vertices and subsequently minimized.[0]\n",
    "\n",
    "Unfortunately for the large SOM PySOMVis was not able to produce the visualisation in a reasonable amount on time (On a High performance cloud server with 4 CPUs and 32GB RAM - directly run with python not via jupyter)\n",
    "\n",
    " [0]: https://www.ifs.tuwien.ac.at/~mayer/publications/pdf/may_icann10.pdf ,accessed 02.02.2024"
   ]
  },
  {
   "cell_type": "markdown",
   "id": "3f2cefa43ed765e6",
   "metadata": {
    "collapsed": false
   },
   "source": [
    "## Cluster Connections\n",
    "\n",
    "In this visualization technique, connecting lines are drawn between units based on threshold values. The intensity of the connections between nodes indicates the similarity of underlying data points.\n",
    "\n",
    "We observe some issues with this visualisation on the large SOM. The connections are not rendered in the same way for the small SOM and we can produce some artifacts which only show on zooming or panning."
   ]
  },
  {
   "cell_type": "markdown",
   "id": "570cf97238956a70",
   "metadata": {
    "collapsed": false
   },
   "source": [
    "![](img/winel_clustercomp.png)\n",
    "(Potentially Faulty) Cluster Connection Visualization\n",
    "\n",
    "![](img/winel_clustercomp_onscroll.png)\n",
    "Artifacts on scrolling"
   ]
  },
  {
   "cell_type": "markdown",
   "id": "b0dfd43f38fc69a3",
   "metadata": {
    "collapsed": false
   },
   "source": [
    "## U-Matrix\n",
    "The U-Matrix visualization displays the distances between neurons on the SOM grid. Low values correspond to small distances between neighbouring neurons, whereas high values indicate large distances and can be used to identify cluster boundaries. \n",
    "\n",
    "In contrast to the U-Matrix of the small SOM multiple smaller clusters, some with clear boundaries can be observed here."
   ]
  },
  {
   "cell_type": "markdown",
   "id": "78cf3f1d6cb3f86c",
   "metadata": {
    "collapsed": false
   },
   "source": [
    "![](img/winel_umatrix.png)\n",
    "U-Matrix"
   ]
  },
  {
   "cell_type": "markdown",
   "id": "d1b18224c7d8d61e",
   "metadata": {
    "collapsed": false
   },
   "source": [
    "## D-Matrix\n",
    "The D-Matrix is similar to the U-Matrix, but averages the distance instead of using interpolation.\n",
    "\n",
    "This results in a similar visualisation, but with smoother transitions between \"mountains\" and \"valleys\". The boundaries are therefore not as clear."
   ]
  },
  {
   "cell_type": "markdown",
   "id": "e3e62c106ae101b",
   "metadata": {
    "collapsed": false
   },
   "source": [
    "![](img/winel_dmatrix.png)\n",
    "D-Matrix\n"
   ]
  },
  {
   "cell_type": "markdown",
   "id": "6d54dcc8af3031bc",
   "metadata": {
    "collapsed": false
   },
   "source": [
    "## P-Matrix & U*-Matrix\n",
    "\n",
    "Unlike the U-Matrix, P-Matrix is a density and not a distance based metric. It involves estimating the empirical density at each neuron's weight vector in the feature space.\n",
    "\n",
    "The U*-Matrix combines both distance and density information, enhancing cluster visualization by adjusting the U-Matrix with density-derived scale factors.\n",
    "  \n",
    "An interesting observation is the high density of most regions of the SOM. According to A. Utsch \"Maps for the visualization of high-dimensional data spaces\" *\"neurons with large P-heights are situated in dense regions of the dataspace\"* and *\"„plateaus“ on a P-Matrix point to cluster centers\"*"
   ]
  },
  {
   "cell_type": "markdown",
   "id": "8e12e8356307cd",
   "metadata": {
    "collapsed": false
   },
   "source": [
    "\n",
    "![](img/winel_pmatrix_optimal.png)\n",
    "P-Matrix with optimal values\n",
    "\n",
    "![](img/winel_ustarmatrix_optimal.png)\n",
    "U*-Matrix (=P-Matrix + U-Matrix) with optimal values\n"
   ]
  },
  {
   "cell_type": "markdown",
   "id": "926ce96eb3c345ca",
   "metadata": {
    "collapsed": false
   },
   "source": [
    "## Pie chart\n",
    "\n",
    "We plotted the pie chart over a hit histogram and over a U-Matrix.\n",
    "Each quality score in the dataset (target) is mapped to one color as shown in the legend and the pie charts show what classes and their distribution for each unit. \n",
    "\n",
    "It seems that the cluster at the center right position has predominantly wines with higher quality ratings. "
   ]
  },
  {
   "cell_type": "markdown",
   "id": "5c8f9d56cd72ae21",
   "metadata": {
    "collapsed": false
   },
   "source": [
    "![](img/winel_piechart.png)\n",
    "Pie Chart over Hit histogram\n"
   ]
  },
  {
   "cell_type": "markdown",
   "id": "de2ae4c0250a0de8",
   "metadata": {
    "collapsed": false
   },
   "source": [
    "## Chessboard\n",
    "\n",
    "Chessboard visualization is a type of class coloring visualization, combining Voronoi Tesselation and chessboard style pixel coloring according to dominant classes.\n",
    "\n",
    "We identify an issue with the generation of the Vonoroi Tesselation, as the Border seem not to be generated properly. However the Vonoroi cells themself seems to be generated and colored accoring to the algorithm. Unfortunately there is no legend for class instances generated (despite providing class labels) so we cannot interpret the result. We still obtain a good overview about overall class class frequency distribution."
   ]
  },
  {
   "cell_type": "markdown",
   "id": "c63e357a138fc9d5",
   "metadata": {
    "collapsed": false
   },
   "source": [
    "![](img/winel_chessboard_voronoi.png)\n",
    "Chessboard visualization\n",
    "\n"
   ]
  },
  {
   "cell_type": "markdown",
   "id": "5642ccb67bec1794",
   "metadata": {
    "collapsed": false
   },
   "source": [
    "## Component planes\n",
    "The component planes visualization shows the distribution of the weights for the selected attributes across the SOM units. \n",
    "\n",
    "There seems to be more of an overlap in the components here compared to the components planes visualization of the small SOM. Some of the clusters can be identified at least partially on each of the component's visualizations."
   ]
  },
  {
   "cell_type": "markdown",
   "id": "49b09998dc4d8dcd",
   "metadata": {
    "collapsed": false
   },
   "source": [
    "![](img/winel_comp_0_fixedacidity.png)\n",
    "Component 0 - Fixed acidity\n",
    "\n",
    "![](img/winel_comp_1_volatile_acidity.png)\n",
    "Component 1 - Volatile acidity\n",
    "\n",
    "![](img/winel_comp_2_citric_acidity.png)\n",
    "Component 2 - Citric acidity\n",
    "\n",
    "![](img/winel_comp_3_residual_sugar.png)\n",
    "Component 3 - Residual sugar\n",
    "\n",
    "![](img/winel_comp_4_chlorides.png)\n",
    "Component 4 - Chlorides\n",
    "\n",
    "![](img/winel_comp_5_free_sulfur_dioxide.png)\n",
    "Component 5 - Free sulfur dioxide\n",
    "\n",
    "![](img/winel_comp_6_total_sulfur_dioxide.png)\n",
    "Component 6 - Total sulfur dioxide\n",
    "\n",
    "![](img/winel_comp_7_density.png)\n",
    "Component 7 - Density\n",
    "\n",
    "![](img/winel_comp_8_pH.png)\n",
    "Component 8 - PH\n",
    "\n",
    "![](img/winel_comp_9_sulphates.png)\n",
    "Component 9 - Sulphates\n",
    "\n",
    "![](img/winel_comp_10_sugar.png)\n",
    "Component 10 - Sugar"
   ]
  },
  {
   "cell_type": "markdown",
   "id": "cde32334a901822",
   "metadata": {
    "collapsed": false
   },
   "source": [
    "## Metro Map\n",
    "\n",
    "MetroMap is similar to component planes, but groups weights of the selected attribute into bins.\n",
    "Component lines connect the centers of gravity of each bin.\n",
    "\n",
    "When one attribute is selected with the option of 4 bins, we see how the fixed acidity values are distributed into the bins.\n",
    "\n",
    "On selection of multiple attributes we observe the component lines, and thus the direction of the gradient of the weight bins point in different directions. Another indication of the inhomogenity within the different attributes of the dataset.\n"
   ]
  },
  {
   "cell_type": "markdown",
   "id": "6c6556a50bfce34b",
   "metadata": {
    "collapsed": false
   },
   "source": [
    "![](img/winel_metro_comp10_4bins.png)\n",
    "Metro Map - 1 attribute, 4 bins\n",
    "\n",
    "![](img/winel_metro_allcomp_level0.4.png)\n",
    "Metro Map - all attributes"
   ]
  },
  {
   "cell_type": "markdown",
   "id": "25affc04165b0be3",
   "metadata": {
    "collapsed": false
   },
   "source": [
    "## Clustering\n",
    "\n",
    "Clustering is a non-deterministic division of the map into regions based on the weights. There are two approaches: k-means and agglomerative clustering.\n",
    "\n",
    "With a number of 4 clusters we see that while the general SOM is rather noisy, there are well-defined clusters of bigger size. With agglomerative clustering, the noise is reduced, which is the same experience we made on the small SOM."
   ]
  },
  {
   "cell_type": "markdown",
   "id": "87f200f137bb526",
   "metadata": {
    "collapsed": false
   },
   "source": [
    "![](img/winel_cluster_kmeans4.png)\n",
    "KMeans clustering with 4 cluster\n",
    "\n",
    "![](img/winel_cluster_agglo_complete_10clusters.png)\n",
    "Agglomerative clustering with 10 clusters\n",
    "\n"
   ]
  },
  {
   "cell_type": "markdown",
   "id": "6eb8412d58cc20df",
   "metadata": {
    "collapsed": false
   },
   "source": [
    "## Quantization error\n",
    "\n",
    "The visualization shows the average distance between the input vector, and it's best matching unit and serves as an indication of how well the map is trained.\n",
    "\n",
    "We notice some quantization errors, but compared to the small SOM it seems the big map is better trained.\n"
   ]
  },
  {
   "cell_type": "markdown",
   "id": "10ff6ae1b5b92c22",
   "metadata": {
    "collapsed": false
   },
   "source": [
    "![](img/winel_quanterror.png)\n",
    "Quantization error"
   ]
  },
  {
   "cell_type": "markdown",
   "id": "1fa9bd32a8fe530",
   "metadata": {
    "collapsed": false
   },
   "source": [
    "## Topographic Error\n",
    "\n",
    "The topographic error visualizes how well the SOM preserves the topography of the input\n",
    "space by calculating the percentage of data samples for which the first and second BMU are not placed in adjacent units in the SOM.\n",
    " \n",
    "We notice topographic errors in the clusters, however these might be false positive errors since the clusters are rather dense. "
   ]
  },
  {
   "cell_type": "markdown",
   "id": "f21f17d52a3713a9",
   "metadata": {
    "collapsed": false
   },
   "source": [
    "![](img/winel_topoerror_4unitnbh.png)\n",
    "Topographic error\n"
   ]
  },
  {
   "cell_type": "markdown",
   "id": "d3b8a895f7a18ee4",
   "metadata": {
    "collapsed": false
   },
   "source": [
    "## SOMStreamVis\n",
    "\n",
    "The SOMStreamVis plots best matching BMU indexes over time (natural order of samples) and can provide additional information to a SOM visualization.\n",
    "\n",
    "As Wine Quality is not a timeseries the visualisation does not apply for this dataset."
   ]
  },
  {
   "cell_type": "markdown",
   "id": "4f793522022e02b9",
   "metadata": {
    "collapsed": false
   },
   "source": [
    "## Intrinsic distance\n",
    "\n",
    "Intrinsic distance visualization combines topographic and quantization error visualizations.\n",
    "\n",
    "Due to performance issues, we weren't able to generate the visualization in a reasonable amount on time (On a High performance cloud server with 4 CPUs and 32GB RAM - directly run with python not via jupyter)"
   ]
  },
  {
   "cell_type": "markdown",
   "id": "9c84185eea4264",
   "metadata": {
    "collapsed": false
   },
   "source": [
    "## Mnemonic SOM\n",
    "\n",
    "We used mnemonic SOM visualization to plot the SOM as a stick figure.\n",
    "Mnemonic SOM visualization eases identification of clusters in a SOM - in this case we can notice a cluster in the left hip area of the stick figure.\n",
    " "
   ]
  },
  {
   "cell_type": "markdown",
   "id": "c5f9f543636348b9",
   "metadata": {
    "collapsed": false
   },
   "source": [
    "![](img/winel_mnemonic.png)\n",
    "Mnemonic SOM - stick figure"
   ]
  }
 ],
 "metadata": {
  "kernelspec": {
   "display_name": "Python 3",
   "language": "python",
   "name": "python3"
  },
  "language_info": {
   "codemirror_mode": {
    "name": "ipython",
    "version": 2
   },
   "file_extension": ".py",
   "mimetype": "text/x-python",
   "name": "python",
   "nbconvert_exporter": "python",
   "pygments_lexer": "ipython2",
   "version": "2.7.6"
  }
 },
 "nbformat": 4,
 "nbformat_minor": 5
}
